{
 "cells": [
  {
   "metadata": {},
   "cell_type": "markdown",
   "source": [
    "# Author\n",
    "\n",
    "- Author: Nicolas Huber\n",
    "- Mail: nicolassebastian.huber@student.uts.edu.au\n",
    "- GitHub: HuberNicolas\n",
    "- Repository: https://github.com/HuberNicolas/python-data-processing-uts"
   ],
   "id": "e747db242075cad3"
  },
  {
   "metadata": {},
   "cell_type": "markdown",
   "source": [
    "# Source\n",
    "\n",
    "https://www.kaggle.com/datasets/mexwell/drug-consumption-classification\n"
   ],
   "id": "4b780e16f4063b9"
  },
  {
   "cell_type": "code",
   "id": "initial_id",
   "metadata": {
    "collapsed": true,
    "ExecuteTime": {
     "end_time": "2024-05-15T23:18:38.753117Z",
     "start_time": "2024-05-15T23:18:38.749122Z"
    }
   },
   "source": [
    "# Imports\n",
    "\n",
    "import matplotlib.pyplot as plt\n",
    "\n",
    "import numpy as np\n",
    "import pandas as pd\n",
    "import seaborn as sns"
   ],
   "outputs": [],
   "execution_count": 1
  },
  {
   "metadata": {
    "ExecuteTime": {
     "end_time": "2024-05-15T23:18:38.758078Z",
     "start_time": "2024-05-15T23:18:38.754935Z"
    }
   },
   "cell_type": "code",
   "source": [
    "# Constants\n",
    "\n",
    "PATH = './data/drug_consumption.csv'"
   ],
   "id": "c806375dd0838b21",
   "outputs": [],
   "execution_count": 2
  },
  {
   "metadata": {
    "ExecuteTime": {
     "end_time": "2024-05-15T23:18:38.763644Z",
     "start_time": "2024-05-15T23:18:38.760427Z"
    }
   },
   "cell_type": "code",
   "source": [
    "# Dev variables\n",
    "DEV = True\n",
    "DEV_FRACTION = 0.01"
   ],
   "id": "d7a66104a2498179",
   "outputs": [],
   "execution_count": 3
  },
  {
   "metadata": {
    "ExecuteTime": {
     "end_time": "2024-05-15T23:18:38.773211Z",
     "start_time": "2024-05-15T23:18:38.765811Z"
    }
   },
   "cell_type": "code",
   "source": [
    "# Explicitly define the order of the target column values\n",
    "CATEGORIES_ORDER = ['cl0', 'cl1', 'cl2', 'cl3', 'cl4', 'cl5', 'cl6']"
   ],
   "id": "108f5dec99ae8cf2",
   "outputs": [],
   "execution_count": 4
  },
  {
   "metadata": {
    "ExecuteTime": {
     "end_time": "2024-05-15T23:18:38.779931Z",
     "start_time": "2024-05-15T23:18:38.775956Z"
    }
   },
   "cell_type": "code",
   "source": [
    "# Mapping categories based on source\n",
    "CATEGORIES = {\n",
    "    'cl0': 'Never Used',\n",
    "    'cl1': 'Used over a Decade Ago',\n",
    "    'cl2': 'Used in Last Decade',\n",
    "    'cl3': 'Used in Last Year',\n",
    "    'cl4': 'Used in Last Month',\n",
    "    'cl5': 'Used in Last Week',\n",
    "    'cl6': 'Used in Last Day'\n",
    "}"
   ],
   "id": "2237e61a31ce6fa8",
   "outputs": [],
   "execution_count": 5
  },
  {
   "metadata": {
    "ExecuteTime": {
     "end_time": "2024-05-15T23:18:38.789203Z",
     "start_time": "2024-05-15T23:18:38.782317Z"
    }
   },
   "cell_type": "code",
   "source": [
    "COLUMNS_TYPE = {\n",
    "    'ID': int,\n",
    "    'Age': float,\n",
    "    'Gender': float,\n",
    "    'Education': float,\n",
    "    'Country': float,\n",
    "    'Ethnicity': float,\n",
    "    'Nscore': float,\n",
    "    'Escore': float,\n",
    "    'Oscore': float,\n",
    "    'Ascore': float,\n",
    "    'Cscore': float,\n",
    "    'Impulsive': float,\n",
    "    'SS': float,\n",
    "    'Alcohol': str,\n",
    "    'Amphet': str,\n",
    "    'Amyl': str,\n",
    "    'Benzos': str,\n",
    "    'Caff': str,\n",
    "    'Cannabis': str,\n",
    "    'Choc': str,\n",
    "    'Coke': str,\n",
    "    'Crack': str,\n",
    "    'Ecstasy': str,\n",
    "    'Heroin': str,\n",
    "    'Ketamine': str,\n",
    "    'Legalh': str,\n",
    "    'LSD': str,\n",
    "    'Meth': str,\n",
    "    'Mushrooms': str,\n",
    "    'Nicotine': str,\n",
    "    'Semer': str,\n",
    "    'VSA': str\n",
    "}"
   ],
   "id": "3055c2de95fce971",
   "outputs": [],
   "execution_count": 6
  },
  {
   "metadata": {
    "ExecuteTime": {
     "end_time": "2024-05-15T23:18:38.795446Z",
     "start_time": "2024-05-15T23:18:38.791394Z"
    }
   },
   "cell_type": "code",
   "source": [
    "# Define columns for better clarity\n",
    "RENAME_COLUMNS = {\n",
    "    # Big Five\n",
    "    # https://en.wikipedia.org/wiki/Big_Five_personality_traits\n",
    "    'Nscore': 'Neuroticism_score',\n",
    "    'Escore': 'Extraversion_score',\n",
    "    'Oscore': 'Openness_score',\n",
    "    'Ascore': 'Agreeableness_score',\n",
    "    'Cscore': 'Conscientiousness_score',\n",
    "\n",
    "    'Impulsive': 'Impulsive_score',\n",
    "    'SS': 'Sensation_seeing_score'\n",
    "}"
   ],
   "id": "980d094b3401691f",
   "outputs": [],
   "execution_count": 7
  }
 ],
 "metadata": {
  "kernelspec": {
   "display_name": "Python 3",
   "language": "python",
   "name": "python3"
  },
  "language_info": {
   "codemirror_mode": {
    "name": "ipython",
    "version": 2
   },
   "file_extension": ".py",
   "mimetype": "text/x-python",
   "name": "python",
   "nbconvert_exporter": "python",
   "pygments_lexer": "ipython2",
   "version": "2.7.6"
  }
 },
 "nbformat": 4,
 "nbformat_minor": 5
}
