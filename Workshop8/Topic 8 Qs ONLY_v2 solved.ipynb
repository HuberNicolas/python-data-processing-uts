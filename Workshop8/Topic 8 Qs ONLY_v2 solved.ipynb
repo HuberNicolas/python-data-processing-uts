{
 "nbformat": 4,
 "nbformat_minor": 0,
 "metadata": {
  "colab": {
   "provenance": [],
   "authorship_tag": "ABX9TyPBIay6i0ePncNZUblMhrSW"
  },
  "kernelspec": {
   "name": "python3",
   "display_name": "Python 3 (ipykernel)",
   "language": "python"
  },
  "language_info": {
   "name": "python"
  }
 },
 "cells": [
  {
   "cell_type": "markdown",
   "source": [
    "The notebook contain at least two questions about each of these topics:\n",
    "\n",
    "* Creating Numpy array\n",
    "* Basic operations on Numpy arrays\n",
    "* NumPy array statistical functions\n",
    "* Converting Numpy array to dataframe pandas"
   ],
   "metadata": {
    "id": "Dc7YPC59D9LS"
   }
  },
  {
   "cell_type": "code",
   "source": [
    "!pip install numpy"
   ],
   "metadata": {
    "colab": {
     "base_uri": "https://localhost:8080/"
    },
    "id": "VxvQ3I81PQOZ",
    "executionInfo": {
     "status": "ok",
     "timestamp": 1712709414850,
     "user_tz": -600,
     "elapsed": 12833,
     "user": {
      "displayName": "Ali Braytee",
      "userId": "06191627035413823673"
     }
    },
    "outputId": "d56796a6-08da-4aa8-e054-17a594069aa7"
   },
   "execution_count": null,
   "outputs": [
    {
     "output_type": "stream",
     "name": "stdout",
     "text": [
      "Requirement already satisfied: numpy in /usr/local/lib/python3.10/dist-packages (1.25.2)\n"
     ]
    }
   ]
  },
  {
   "cell_type": "markdown",
   "source": [
    "**NumPy: It provides a powerful array object (numpy.ndarray) that is efficient for numerical operations. If you need to perform element-wise operations or linear algebra computations, NumPy is often more suitable.**"
   ],
   "metadata": {
    "id": "X0TFIqgMLk8A"
   }
  },
  {
   "cell_type": "code",
   "source": [
    "#import the library\n",
    "import numpy as np"
   ],
   "metadata": {
    "id": "qTSdAwe5ETun",
    "ExecuteTime": {
     "end_time": "2024-04-11T05:22:41.123010Z",
     "start_time": "2024-04-11T05:22:40.902381Z"
    }
   },
   "outputs": [],
   "execution_count": 1
  },
  {
   "cell_type": "code",
   "source": [
    "# Question 1: Creating Numpy array\n",
    "# Create a 2D Numpy array with shape (3, 3) filled with zeros.\n",
    "shape = (3,3)\n",
    "d3_array = np.zeros(shape)\n",
    "print(d3_array)\n"
   ],
   "metadata": {
    "id": "BYfjLYPVEOP4",
    "ExecuteTime": {
     "end_time": "2024-04-11T05:23:49.511838Z",
     "start_time": "2024-04-11T05:23:49.506249Z"
    }
   },
   "outputs": [
    {
     "name": "stdout",
     "output_type": "stream",
     "text": [
      "[[0. 0. 0.]\n",
      " [0. 0. 0.]\n",
      " [0. 0. 0.]]\n"
     ]
    }
   ],
   "execution_count": 4
  },
  {
   "cell_type": "code",
   "source": [
    "# Question 2: Creating Numpy array\n",
    "# Create a 2D Numpy array with shape (2, 3) filled with ones.\n",
    "shape = (2,3)\n",
    "d2_array = np.ones(shape)\n",
    "print(d2_array)\n"
   ],
   "metadata": {
    "id": "KcHQgvYgRonv",
    "ExecuteTime": {
     "end_time": "2024-04-11T05:23:54.146171Z",
     "start_time": "2024-04-11T05:23:54.139600Z"
    }
   },
   "outputs": [
    {
     "name": "stdout",
     "output_type": "stream",
     "text": [
      "[[1. 1. 1.]\n",
      " [1. 1. 1.]]\n"
     ]
    }
   ],
   "execution_count": 5
  },
  {
   "cell_type": "code",
   "metadata": {
    "colab": {
     "base_uri": "https://localhost:8080/"
    },
    "id": "YTAIUzIqD4_Y",
    "executionInfo": {
     "status": "ok",
     "timestamp": 1712716797268,
     "user_tz": -600,
     "elapsed": 684,
     "user": {
      "displayName": "Ali Braytee",
      "userId": "06191627035413823673"
     }
    },
    "outputId": "45225239-abf3-4e2a-f8b4-6cabaf7fa7d8",
    "ExecuteTime": {
     "end_time": "2024-04-11T05:27:07.984532Z",
     "start_time": "2024-04-11T05:27:07.975916Z"
    }
   },
   "source": [
    "# Question 3: Creating Numpy array\n",
    "# How can you create a 1D Numpy array of oddly numbers from 1 to 20 using linspace\n",
    "\n",
    "arr = np.linspace(start=1,stop=20, num=10, dtype=int)\n",
    "arr"
   ],
   "outputs": [
    {
     "data": {
      "text/plain": [
       "array([ 1,  3,  5,  7,  9, 11, 13, 15, 17, 20])"
      ]
     },
     "execution_count": 18,
     "metadata": {},
     "output_type": "execute_result"
    }
   ],
   "execution_count": 18
  },
  {
   "cell_type": "code",
   "source": [
    "# Question 4: Basic operation on Numpy\n",
    "# Given two Numpy arrays salaries = [677, 818.2, 234] and overtime = [45, 65, 96], perform element-wise addition to add salaries and overtime.\n",
    "salaries = np.array([677, 818.2, 234])\n",
    "overtime = np.array([45, 65, 96])\n",
    "\n",
    "sum_salaries = salaries.sum()\n",
    "sum_overtime = overtime.sum()\n",
    "print(sum_salaries, sum_overtime)\n",
    "\n",
    "\n",
    "weird_addition = salaries + overtime\n",
    "print(weird_addition)"
   ],
   "metadata": {
    "colab": {
     "base_uri": "https://localhost:8080/"
    },
    "id": "yqzocvhaEP7w",
    "executionInfo": {
     "status": "ok",
     "timestamp": 1712723869689,
     "user_tz": -600,
     "elapsed": 540,
     "user": {
      "displayName": "Ali Braytee",
      "userId": "06191627035413823673"
     }
    },
    "outputId": "f3129977-f147-4cbc-ea35-b24633dd24a8",
    "ExecuteTime": {
     "end_time": "2024-04-11T05:28:42.261407Z",
     "start_time": "2024-04-11T05:28:42.255539Z"
    }
   },
   "outputs": [
    {
     "name": "stdout",
     "output_type": "stream",
     "text": [
      "1729.2 206\n",
      "[722.  883.2 330. ]\n"
     ]
    }
   ],
   "execution_count": 21
  },
  {
   "cell_type": "code",
   "source": [
    "# Question 5: using the array in Question 4, Perform element-wise exponentiation of salries power overtime\n",
    "weird_exponential = salaries ** overtime\n",
    "print(weird_exponential)\n"
   ],
   "metadata": {
    "colab": {
     "base_uri": "https://localhost:8080/"
    },
    "id": "BzbThq4tEpoR",
    "executionInfo": {
     "status": "ok",
     "timestamp": 1712723902655,
     "user_tz": -600,
     "elapsed": 527,
     "user": {
      "displayName": "Ali Braytee",
      "userId": "06191627035413823673"
     }
    },
    "outputId": "cee53884-9c7e-4090-db29-cfcd6e1f2775",
    "ExecuteTime": {
     "end_time": "2024-04-11T05:29:13.229204Z",
     "start_time": "2024-04-11T05:29:13.222587Z"
    }
   },
   "outputs": [
    {
     "name": "stdout",
     "output_type": "stream",
     "text": [
      "[2.37952401e+127 2.16703480e+189 2.78434029e+227]\n"
     ]
    }
   ],
   "execution_count": 23
  },
  {
   "cell_type": "code",
   "source": [
    "# Question 6: NumPy array statistical functions\n",
    "# Create a 10 x 4 NumPy array with random values\n",
    "data = np.random.rand(10, 4)\n",
    "\n",
    "print(\"10 x 4 NumPy array with random values:\")\n",
    "print(data)\n",
    "\n",
    "\n",
    "# calculate the total mean and standard deviation of the table\n",
    "print(data.mean(), np.mean(data))\n",
    "print(data.std(), np.std(data))\n"
   ],
   "metadata": {
    "id": "d1qoupVTEnjv",
    "ExecuteTime": {
     "end_time": "2024-04-11T05:31:49.209807Z",
     "start_time": "2024-04-11T05:31:49.201398Z"
    }
   },
   "outputs": [
    {
     "name": "stdout",
     "output_type": "stream",
     "text": [
      "10 x 4 NumPy array with random values:\n",
      "[[0.32016064 0.07449832 0.87142475 0.86976361]\n",
      " [0.67081075 0.50342138 0.33276581 0.68139675]\n",
      " [0.30296597 0.90620229 0.30643023 0.54544993]\n",
      " [0.29954047 0.72871795 0.657485   0.14165371]\n",
      " [0.38297007 0.22423213 0.23340797 0.00187059]\n",
      " [0.32963132 0.65201753 0.35320324 0.34364173]\n",
      " [0.67401323 0.58901581 0.5965434  0.2128295 ]\n",
      " [0.24552654 0.82150254 0.50116151 0.68948418]\n",
      " [0.85428955 0.91452856 0.98324551 0.66096566]\n",
      " [0.26750251 0.94044371 0.4897342  0.81790828]]\n",
      "0.5248089203579323 0.5248089203579323\n",
      "0.2640875621084595 0.2640875621084595\n"
     ]
    }
   ],
   "execution_count": 29
  },
  {
   "cell_type": "code",
   "source": [
    "# Calculate the mean and standard deviation for each column\n",
    "mean_values = np.mean(data, axis=0)\n",
    "std_deviations = np.std(data, axis=0)\n",
    "\n",
    "print(\"\\nMean values for each column:\")\n",
    "print(mean_values)\n",
    "\n",
    "print(\"\\nStandard deviations for each column:\")\n",
    "print(std_deviations)"
   ],
   "metadata": {
    "id": "MXZriql1UOmY",
    "ExecuteTime": {
     "end_time": "2024-04-11T05:32:02.534040Z",
     "start_time": "2024-04-11T05:32:02.524648Z"
    }
   },
   "outputs": [
    {
     "name": "stdout",
     "output_type": "stream",
     "text": [
      "\n",
      "Mean values for each column:\n",
      "[0.4347411  0.63545802 0.53254016 0.49649639]\n",
      "\n",
      "Standard deviations for each column:\n",
      "[0.20378241 0.28127502 0.23519778 0.2859917 ]\n"
     ]
    }
   ],
   "execution_count": 30
  },
  {
   "cell_type": "markdown",
   "source": [
    "# Reading data from libraries\n"
   ],
   "metadata": {
    "id": "TyS_21fwFn7_"
   }
  },
  {
   "cell_type": "markdown",
   "source": [
    "https://scikit-learn.org/stable/datasets/toy_dataset.html\n",
    "\n",
    "Scikit-learn is a widely-used Python library for machine learning and statistical modeling."
   ],
   "metadata": {
    "id": "g18KLuaJF1AI"
   }
  },
  {
   "cell_type": "code",
   "source": [
    "!pip install scikit-learn"
   ],
   "metadata": {
    "colab": {
     "base_uri": "https://localhost:8080/"
    },
    "id": "-oSwfTG8F4WZ",
    "executionInfo": {
     "status": "ok",
     "timestamp": 1712724922149,
     "user_tz": -600,
     "elapsed": 6777,
     "user": {
      "displayName": "Ali Braytee",
      "userId": "06191627035413823673"
     }
    },
    "outputId": "725f6768-2ac8-43a4-8355-9c0538698bd6",
    "ExecuteTime": {
     "end_time": "2024-04-11T05:32:10.706594Z",
     "start_time": "2024-04-11T05:32:07.204472Z"
    }
   },
   "outputs": [
    {
     "name": "stdout",
     "output_type": "stream",
     "text": [
      "Collecting scikit-learn\r\n",
      "^C\r\n",
      "\u001B[31mERROR: Operation cancelled by user\u001B[0m\u001B[31m\r\n",
      "\u001B[0m\r\n",
      "\u001B[1m[\u001B[0m\u001B[34;49mnotice\u001B[0m\u001B[1;39;49m]\u001B[0m\u001B[39;49m A new release of pip is available: \u001B[0m\u001B[31;49m23.3.1\u001B[0m\u001B[39;49m -> \u001B[0m\u001B[32;49m24.0\u001B[0m\r\n",
      "\u001B[1m[\u001B[0m\u001B[34;49mnotice\u001B[0m\u001B[1;39;49m]\u001B[0m\u001B[39;49m To update, run: \u001B[0m\u001B[32;49mpip install --upgrade pip\u001B[0m\r\n"
     ]
    }
   ],
   "execution_count": 31
  },
  {
   "cell_type": "code",
   "source": [
    "from sklearn.datasets import load_diabetes\n",
    "\n",
    "# Load the diabetes dataset\n",
    "diabetes = load_diabetes()\n",
    "# Access the feature matrix (data)\n",
    "data = diabetes.data\n",
    "print(data.shape)\n",
    "print(type(data))"
   ],
   "metadata": {
    "colab": {
     "base_uri": "https://localhost:8080/"
    },
    "id": "BbM8MxtXW13M",
    "executionInfo": {
     "status": "ok",
     "timestamp": 1712725016242,
     "user_tz": -600,
     "elapsed": 6,
     "user": {
      "displayName": "Ali Braytee",
      "userId": "06191627035413823673"
     }
    },
    "outputId": "85d74603-e433-4f1f-d2c1-0e006ea08ca4",
    "ExecuteTime": {
     "end_time": "2024-04-11T05:33:50.078084Z",
     "start_time": "2024-04-11T05:33:06.903311Z"
    }
   },
   "outputs": [
    {
     "name": "stdout",
     "output_type": "stream",
     "text": [
      "(442, 10)\n",
      "<class 'numpy.ndarray'>\n"
     ]
    }
   ],
   "execution_count": 33
  },
  {
   "cell_type": "code",
   "source": [
    "# Display the top three rows of the feature matrix\n",
    "print(\"Top three rows of the feature matrix:\")\n",
    "print(data[:3])"
   ],
   "metadata": {
    "colab": {
     "base_uri": "https://localhost:8080/"
    },
    "id": "NAlMQjIxXtjX",
    "executionInfo": {
     "status": "ok",
     "timestamp": 1712725091626,
     "user_tz": -600,
     "elapsed": 3,
     "user": {
      "displayName": "Ali Braytee",
      "userId": "06191627035413823673"
     }
    },
    "outputId": "b8d64b70-9d50-4b8f-b1e9-247520f7e953",
    "ExecuteTime": {
     "end_time": "2024-04-11T05:34:05.711090Z",
     "start_time": "2024-04-11T05:34:05.705446Z"
    }
   },
   "outputs": [
    {
     "name": "stdout",
     "output_type": "stream",
     "text": [
      "Top three rows of the feature matrix:\n",
      "[[ 0.03807591  0.05068012  0.06169621  0.02187239 -0.0442235  -0.03482076\n",
      "  -0.04340085 -0.00259226  0.01990749 -0.01764613]\n",
      " [-0.00188202 -0.04464164 -0.05147406 -0.02632753 -0.00844872 -0.01916334\n",
      "   0.07441156 -0.03949338 -0.06833155 -0.09220405]\n",
      " [ 0.08529891  0.05068012  0.04445121 -0.00567042 -0.04559945 -0.03419447\n",
      "  -0.03235593 -0.00259226  0.00286131 -0.02593034]]\n"
     ]
    }
   ],
   "execution_count": 34
  },
  {
   "cell_type": "code",
   "source": [
    "#Question 7\n",
    "## Calculate the statistic paramters of the columns/variables\n",
    "\n",
    "means = data.mean()\n",
    "std_devs = data.std()\n",
    "mins = data.min()\n",
    "maxs = data.max()\n",
    "\n",
    "# Print the calculated statistical parameters\n",
    "print(\"Statistical parameters for each column:\")\n",
    "print(\"Mean:\", means)\n",
    "print(\"Standard Deviation:\", std_devs)\n",
    "print(\"Minimum:\", mins)\n",
    "print(\"Maximum:\", maxs)"
   ],
   "metadata": {
    "id": "OqEITeMCHXQ-",
    "ExecuteTime": {
     "end_time": "2024-04-11T05:34:58.739435Z",
     "start_time": "2024-04-11T05:34:58.731640Z"
    }
   },
   "outputs": [
    {
     "name": "stdout",
     "output_type": "stream",
     "text": [
      "Statistical parameters for each column:\n",
      "Mean: -1.42671194114726e-17\n",
      "Standard Deviation: 0.04756514941544941\n",
      "Minimum: -0.13776722569000302\n",
      "Maximum: 0.19878798965729408\n"
     ]
    }
   ],
   "execution_count": 36
  },
  {
   "cell_type": "code",
   "source": [
    "#Question 8:\n",
    "#Calculate the correlation between variables\n",
    "# rowvar=False means that each column represents a variable,\n",
    "correlation_matrix = np.corrcoef(data, rowvar=False)\n",
    "\n",
    "# Print the correlation matrix\n",
    "print(correlation_matrix)\n"
   ],
   "metadata": {
    "id": "Sspt8mjuHgaE",
    "ExecuteTime": {
     "end_time": "2024-04-11T05:35:07.527847Z",
     "start_time": "2024-04-11T05:35:07.518936Z"
    }
   },
   "outputs": [
    {
     "name": "stdout",
     "output_type": "stream",
     "text": [
      "[[ 1.          0.1737371   0.18508467  0.33542759  0.26006082  0.21924314\n",
      "  -0.07518097  0.2038409   0.27077424  0.30173101]\n",
      " [ 0.1737371   1.          0.0881614   0.24101049  0.03527682  0.14263726\n",
      "  -0.37908963  0.33211509  0.14991614  0.20813322]\n",
      " [ 0.18508467  0.0881614   1.          0.3954109   0.24977742  0.26116991\n",
      "  -0.36681098  0.4138066   0.44615654  0.38867999]\n",
      " [ 0.33542759  0.24101049  0.3954109   1.          0.24246402  0.18554846\n",
      "  -0.17876163  0.25765005  0.39348011  0.39043002]\n",
      " [ 0.26006082  0.03527682  0.24977742  0.24246402  1.          0.89666296\n",
      "   0.05151936  0.54220728  0.51550292  0.32571675]\n",
      " [ 0.21924314  0.14263726  0.26116991  0.18554846  0.89666296  1.\n",
      "  -0.19645512  0.65981689  0.31835667  0.29060038]\n",
      " [-0.07518097 -0.37908963 -0.36681098 -0.17876163  0.05151936 -0.19645512\n",
      "   1.         -0.73849273 -0.39857729 -0.2736973 ]\n",
      " [ 0.2038409   0.33211509  0.4138066   0.25765005  0.54220728  0.65981689\n",
      "  -0.73849273  1.          0.61785897  0.41721211]\n",
      " [ 0.27077424  0.14991614  0.44615654  0.39348011  0.51550292  0.31835667\n",
      "  -0.39857729  0.61785897  1.          0.46466885]\n",
      " [ 0.30173101  0.20813322  0.38867999  0.39043002  0.32571675  0.29060038\n",
      "  -0.2736973   0.41721211  0.46466885  1.        ]]\n"
     ]
    }
   ],
   "execution_count": 37
  },
  {
   "cell_type": "code",
   "source": [
    "#Question 9 Calculate the minimum and maximum values in the correlation matrix\n",
    "min_value = np.min(correlation_matrix)\n",
    "max_value = np.max(correlation_matrix)\n",
    "\n",
    "# Print the minimum and maximum values\n",
    "print(\"Minimum value:\", min_value)\n",
    "print(\"Maximum value:\", max_value)"
   ],
   "metadata": {
    "colab": {
     "base_uri": "https://localhost:8080/"
    },
    "id": "9TaNI5r6YhVp",
    "executionInfo": {
     "status": "ok",
     "timestamp": 1712725321493,
     "user_tz": -600,
     "elapsed": 5,
     "user": {
      "displayName": "Ali Braytee",
      "userId": "06191627035413823673"
     }
    },
    "outputId": "4251261a-f1d3-401d-8369-300831bdc1f4",
    "ExecuteTime": {
     "end_time": "2024-04-11T05:36:17.149714Z",
     "start_time": "2024-04-11T05:36:17.142898Z"
    }
   },
   "outputs": [
    {
     "name": "stdout",
     "output_type": "stream",
     "text": [
      "Minimum value: -0.7384927292583834\n",
      "Maximum value: 1.0\n"
     ]
    }
   ],
   "execution_count": 39
  },
  {
   "cell_type": "code",
   "source": [
    "#Question 10: Convert Numpy array to DataFrame\n",
    "import pandas as pd\n",
    "import numpy as np\n",
    "\n",
    "df = pd.DataFrame(data)\n",
    "df\n",
    "\n"
   ],
   "metadata": {
    "id": "mBN2WpXtJB_f",
    "ExecuteTime": {
     "end_time": "2024-04-11T05:37:39.778815Z",
     "start_time": "2024-04-11T05:37:38.845237Z"
    }
   },
   "outputs": [
    {
     "name": "stderr",
     "output_type": "stream",
     "text": [
      "/var/folders/ck/vgxn_9f907d122j56f3203gm0000gn/T/ipykernel_60807/4227126886.py:2: DeprecationWarning: \n",
      "Pyarrow will become a required dependency of pandas in the next major release of pandas (pandas 3.0),\n",
      "(to allow more performant data types, such as the Arrow string type, and better interoperability with other libraries)\n",
      "but was not found to be installed on your system.\n",
      "If this would cause problems for you,\n",
      "please provide us feedback at https://github.com/pandas-dev/pandas/issues/54466\n",
      "        \n",
      "  import pandas as pd\n"
     ]
    },
    {
     "data": {
      "text/plain": [
       "            0         1         2         3         4         5         6  \\\n",
       "0    0.038076  0.050680  0.061696  0.021872 -0.044223 -0.034821 -0.043401   \n",
       "1   -0.001882 -0.044642 -0.051474 -0.026328 -0.008449 -0.019163  0.074412   \n",
       "2    0.085299  0.050680  0.044451 -0.005670 -0.045599 -0.034194 -0.032356   \n",
       "3   -0.089063 -0.044642 -0.011595 -0.036656  0.012191  0.024991 -0.036038   \n",
       "4    0.005383 -0.044642 -0.036385  0.021872  0.003935  0.015596  0.008142   \n",
       "..        ...       ...       ...       ...       ...       ...       ...   \n",
       "437  0.041708  0.050680  0.019662  0.059744 -0.005697 -0.002566 -0.028674   \n",
       "438 -0.005515  0.050680 -0.015906 -0.067642  0.049341  0.079165 -0.028674   \n",
       "439  0.041708  0.050680 -0.015906  0.017293 -0.037344 -0.013840 -0.024993   \n",
       "440 -0.045472 -0.044642  0.039062  0.001215  0.016318  0.015283 -0.028674   \n",
       "441 -0.045472 -0.044642 -0.073030 -0.081413  0.083740  0.027809  0.173816   \n",
       "\n",
       "            7         8         9  \n",
       "0   -0.002592  0.019907 -0.017646  \n",
       "1   -0.039493 -0.068332 -0.092204  \n",
       "2   -0.002592  0.002861 -0.025930  \n",
       "3    0.034309  0.022688 -0.009362  \n",
       "4   -0.002592 -0.031988 -0.046641  \n",
       "..        ...       ...       ...  \n",
       "437 -0.002592  0.031193  0.007207  \n",
       "438  0.034309 -0.018114  0.044485  \n",
       "439 -0.011080 -0.046883  0.015491  \n",
       "440  0.026560  0.044529 -0.025930  \n",
       "441 -0.039493 -0.004222  0.003064  \n",
       "\n",
       "[442 rows x 10 columns]"
      ],
      "text/html": [
       "<div>\n",
       "<style scoped>\n",
       "    .dataframe tbody tr th:only-of-type {\n",
       "        vertical-align: middle;\n",
       "    }\n",
       "\n",
       "    .dataframe tbody tr th {\n",
       "        vertical-align: top;\n",
       "    }\n",
       "\n",
       "    .dataframe thead th {\n",
       "        text-align: right;\n",
       "    }\n",
       "</style>\n",
       "<table border=\"1\" class=\"dataframe\">\n",
       "  <thead>\n",
       "    <tr style=\"text-align: right;\">\n",
       "      <th></th>\n",
       "      <th>0</th>\n",
       "      <th>1</th>\n",
       "      <th>2</th>\n",
       "      <th>3</th>\n",
       "      <th>4</th>\n",
       "      <th>5</th>\n",
       "      <th>6</th>\n",
       "      <th>7</th>\n",
       "      <th>8</th>\n",
       "      <th>9</th>\n",
       "    </tr>\n",
       "  </thead>\n",
       "  <tbody>\n",
       "    <tr>\n",
       "      <th>0</th>\n",
       "      <td>0.038076</td>\n",
       "      <td>0.050680</td>\n",
       "      <td>0.061696</td>\n",
       "      <td>0.021872</td>\n",
       "      <td>-0.044223</td>\n",
       "      <td>-0.034821</td>\n",
       "      <td>-0.043401</td>\n",
       "      <td>-0.002592</td>\n",
       "      <td>0.019907</td>\n",
       "      <td>-0.017646</td>\n",
       "    </tr>\n",
       "    <tr>\n",
       "      <th>1</th>\n",
       "      <td>-0.001882</td>\n",
       "      <td>-0.044642</td>\n",
       "      <td>-0.051474</td>\n",
       "      <td>-0.026328</td>\n",
       "      <td>-0.008449</td>\n",
       "      <td>-0.019163</td>\n",
       "      <td>0.074412</td>\n",
       "      <td>-0.039493</td>\n",
       "      <td>-0.068332</td>\n",
       "      <td>-0.092204</td>\n",
       "    </tr>\n",
       "    <tr>\n",
       "      <th>2</th>\n",
       "      <td>0.085299</td>\n",
       "      <td>0.050680</td>\n",
       "      <td>0.044451</td>\n",
       "      <td>-0.005670</td>\n",
       "      <td>-0.045599</td>\n",
       "      <td>-0.034194</td>\n",
       "      <td>-0.032356</td>\n",
       "      <td>-0.002592</td>\n",
       "      <td>0.002861</td>\n",
       "      <td>-0.025930</td>\n",
       "    </tr>\n",
       "    <tr>\n",
       "      <th>3</th>\n",
       "      <td>-0.089063</td>\n",
       "      <td>-0.044642</td>\n",
       "      <td>-0.011595</td>\n",
       "      <td>-0.036656</td>\n",
       "      <td>0.012191</td>\n",
       "      <td>0.024991</td>\n",
       "      <td>-0.036038</td>\n",
       "      <td>0.034309</td>\n",
       "      <td>0.022688</td>\n",
       "      <td>-0.009362</td>\n",
       "    </tr>\n",
       "    <tr>\n",
       "      <th>4</th>\n",
       "      <td>0.005383</td>\n",
       "      <td>-0.044642</td>\n",
       "      <td>-0.036385</td>\n",
       "      <td>0.021872</td>\n",
       "      <td>0.003935</td>\n",
       "      <td>0.015596</td>\n",
       "      <td>0.008142</td>\n",
       "      <td>-0.002592</td>\n",
       "      <td>-0.031988</td>\n",
       "      <td>-0.046641</td>\n",
       "    </tr>\n",
       "    <tr>\n",
       "      <th>...</th>\n",
       "      <td>...</td>\n",
       "      <td>...</td>\n",
       "      <td>...</td>\n",
       "      <td>...</td>\n",
       "      <td>...</td>\n",
       "      <td>...</td>\n",
       "      <td>...</td>\n",
       "      <td>...</td>\n",
       "      <td>...</td>\n",
       "      <td>...</td>\n",
       "    </tr>\n",
       "    <tr>\n",
       "      <th>437</th>\n",
       "      <td>0.041708</td>\n",
       "      <td>0.050680</td>\n",
       "      <td>0.019662</td>\n",
       "      <td>0.059744</td>\n",
       "      <td>-0.005697</td>\n",
       "      <td>-0.002566</td>\n",
       "      <td>-0.028674</td>\n",
       "      <td>-0.002592</td>\n",
       "      <td>0.031193</td>\n",
       "      <td>0.007207</td>\n",
       "    </tr>\n",
       "    <tr>\n",
       "      <th>438</th>\n",
       "      <td>-0.005515</td>\n",
       "      <td>0.050680</td>\n",
       "      <td>-0.015906</td>\n",
       "      <td>-0.067642</td>\n",
       "      <td>0.049341</td>\n",
       "      <td>0.079165</td>\n",
       "      <td>-0.028674</td>\n",
       "      <td>0.034309</td>\n",
       "      <td>-0.018114</td>\n",
       "      <td>0.044485</td>\n",
       "    </tr>\n",
       "    <tr>\n",
       "      <th>439</th>\n",
       "      <td>0.041708</td>\n",
       "      <td>0.050680</td>\n",
       "      <td>-0.015906</td>\n",
       "      <td>0.017293</td>\n",
       "      <td>-0.037344</td>\n",
       "      <td>-0.013840</td>\n",
       "      <td>-0.024993</td>\n",
       "      <td>-0.011080</td>\n",
       "      <td>-0.046883</td>\n",
       "      <td>0.015491</td>\n",
       "    </tr>\n",
       "    <tr>\n",
       "      <th>440</th>\n",
       "      <td>-0.045472</td>\n",
       "      <td>-0.044642</td>\n",
       "      <td>0.039062</td>\n",
       "      <td>0.001215</td>\n",
       "      <td>0.016318</td>\n",
       "      <td>0.015283</td>\n",
       "      <td>-0.028674</td>\n",
       "      <td>0.026560</td>\n",
       "      <td>0.044529</td>\n",
       "      <td>-0.025930</td>\n",
       "    </tr>\n",
       "    <tr>\n",
       "      <th>441</th>\n",
       "      <td>-0.045472</td>\n",
       "      <td>-0.044642</td>\n",
       "      <td>-0.073030</td>\n",
       "      <td>-0.081413</td>\n",
       "      <td>0.083740</td>\n",
       "      <td>0.027809</td>\n",
       "      <td>0.173816</td>\n",
       "      <td>-0.039493</td>\n",
       "      <td>-0.004222</td>\n",
       "      <td>0.003064</td>\n",
       "    </tr>\n",
       "  </tbody>\n",
       "</table>\n",
       "<p>442 rows × 10 columns</p>\n",
       "</div>"
      ]
     },
     "execution_count": 41,
     "metadata": {},
     "output_type": "execute_result"
    }
   ],
   "execution_count": 41
  },
  {
   "cell_type": "markdown",
   "source": [
    "**Descriptive statistics using Pandas DataFrame are much more efficient and easier compared to NumPy arrays.**"
   ],
   "metadata": {
    "id": "bqfUXOMZZW5G"
   }
  },
  {
   "cell_type": "code",
   "source": [
    "df.describe()"
   ],
   "metadata": {
    "id": "_wXvuYXDZMxt",
    "ExecuteTime": {
     "end_time": "2024-04-11T05:37:47.919851Z",
     "start_time": "2024-04-11T05:37:47.859766Z"
    }
   },
   "outputs": [
    {
     "data": {
      "text/plain": [
       "                  0             1             2             3             4  \\\n",
       "count  4.420000e+02  4.420000e+02  4.420000e+02  4.420000e+02  4.420000e+02   \n",
       "mean  -2.511817e-19  1.230790e-17 -2.245564e-16 -4.797570e-17 -1.381499e-17   \n",
       "std    4.761905e-02  4.761905e-02  4.761905e-02  4.761905e-02  4.761905e-02   \n",
       "min   -1.072256e-01 -4.464164e-02 -9.027530e-02 -1.123988e-01 -1.267807e-01   \n",
       "25%   -3.729927e-02 -4.464164e-02 -3.422907e-02 -3.665608e-02 -3.424784e-02   \n",
       "50%    5.383060e-03 -4.464164e-02 -7.283766e-03 -5.670422e-03 -4.320866e-03   \n",
       "75%    3.807591e-02  5.068012e-02  3.124802e-02  3.564379e-02  2.835801e-02   \n",
       "max    1.107267e-01  5.068012e-02  1.705552e-01  1.320436e-01  1.539137e-01   \n",
       "\n",
       "                  5             6             7             8             9  \n",
       "count  4.420000e+02  4.420000e+02  4.420000e+02  4.420000e+02  4.420000e+02  \n",
       "mean   3.918434e-17 -5.777179e-18 -9.042540e-18  9.293722e-17  1.130318e-17  \n",
       "std    4.761905e-02  4.761905e-02  4.761905e-02  4.761905e-02  4.761905e-02  \n",
       "min   -1.156131e-01 -1.023071e-01 -7.639450e-02 -1.260971e-01 -1.377672e-01  \n",
       "25%   -3.035840e-02 -3.511716e-02 -3.949338e-02 -3.324559e-02 -3.317903e-02  \n",
       "50%   -3.819065e-03 -6.584468e-03 -2.592262e-03 -1.947171e-03 -1.077698e-03  \n",
       "75%    2.984439e-02  2.931150e-02  3.430886e-02  3.243232e-02  2.791705e-02  \n",
       "max    1.987880e-01  1.811791e-01  1.852344e-01  1.335973e-01  1.356118e-01  "
      ],
      "text/html": [
       "<div>\n",
       "<style scoped>\n",
       "    .dataframe tbody tr th:only-of-type {\n",
       "        vertical-align: middle;\n",
       "    }\n",
       "\n",
       "    .dataframe tbody tr th {\n",
       "        vertical-align: top;\n",
       "    }\n",
       "\n",
       "    .dataframe thead th {\n",
       "        text-align: right;\n",
       "    }\n",
       "</style>\n",
       "<table border=\"1\" class=\"dataframe\">\n",
       "  <thead>\n",
       "    <tr style=\"text-align: right;\">\n",
       "      <th></th>\n",
       "      <th>0</th>\n",
       "      <th>1</th>\n",
       "      <th>2</th>\n",
       "      <th>3</th>\n",
       "      <th>4</th>\n",
       "      <th>5</th>\n",
       "      <th>6</th>\n",
       "      <th>7</th>\n",
       "      <th>8</th>\n",
       "      <th>9</th>\n",
       "    </tr>\n",
       "  </thead>\n",
       "  <tbody>\n",
       "    <tr>\n",
       "      <th>count</th>\n",
       "      <td>4.420000e+02</td>\n",
       "      <td>4.420000e+02</td>\n",
       "      <td>4.420000e+02</td>\n",
       "      <td>4.420000e+02</td>\n",
       "      <td>4.420000e+02</td>\n",
       "      <td>4.420000e+02</td>\n",
       "      <td>4.420000e+02</td>\n",
       "      <td>4.420000e+02</td>\n",
       "      <td>4.420000e+02</td>\n",
       "      <td>4.420000e+02</td>\n",
       "    </tr>\n",
       "    <tr>\n",
       "      <th>mean</th>\n",
       "      <td>-2.511817e-19</td>\n",
       "      <td>1.230790e-17</td>\n",
       "      <td>-2.245564e-16</td>\n",
       "      <td>-4.797570e-17</td>\n",
       "      <td>-1.381499e-17</td>\n",
       "      <td>3.918434e-17</td>\n",
       "      <td>-5.777179e-18</td>\n",
       "      <td>-9.042540e-18</td>\n",
       "      <td>9.293722e-17</td>\n",
       "      <td>1.130318e-17</td>\n",
       "    </tr>\n",
       "    <tr>\n",
       "      <th>std</th>\n",
       "      <td>4.761905e-02</td>\n",
       "      <td>4.761905e-02</td>\n",
       "      <td>4.761905e-02</td>\n",
       "      <td>4.761905e-02</td>\n",
       "      <td>4.761905e-02</td>\n",
       "      <td>4.761905e-02</td>\n",
       "      <td>4.761905e-02</td>\n",
       "      <td>4.761905e-02</td>\n",
       "      <td>4.761905e-02</td>\n",
       "      <td>4.761905e-02</td>\n",
       "    </tr>\n",
       "    <tr>\n",
       "      <th>min</th>\n",
       "      <td>-1.072256e-01</td>\n",
       "      <td>-4.464164e-02</td>\n",
       "      <td>-9.027530e-02</td>\n",
       "      <td>-1.123988e-01</td>\n",
       "      <td>-1.267807e-01</td>\n",
       "      <td>-1.156131e-01</td>\n",
       "      <td>-1.023071e-01</td>\n",
       "      <td>-7.639450e-02</td>\n",
       "      <td>-1.260971e-01</td>\n",
       "      <td>-1.377672e-01</td>\n",
       "    </tr>\n",
       "    <tr>\n",
       "      <th>25%</th>\n",
       "      <td>-3.729927e-02</td>\n",
       "      <td>-4.464164e-02</td>\n",
       "      <td>-3.422907e-02</td>\n",
       "      <td>-3.665608e-02</td>\n",
       "      <td>-3.424784e-02</td>\n",
       "      <td>-3.035840e-02</td>\n",
       "      <td>-3.511716e-02</td>\n",
       "      <td>-3.949338e-02</td>\n",
       "      <td>-3.324559e-02</td>\n",
       "      <td>-3.317903e-02</td>\n",
       "    </tr>\n",
       "    <tr>\n",
       "      <th>50%</th>\n",
       "      <td>5.383060e-03</td>\n",
       "      <td>-4.464164e-02</td>\n",
       "      <td>-7.283766e-03</td>\n",
       "      <td>-5.670422e-03</td>\n",
       "      <td>-4.320866e-03</td>\n",
       "      <td>-3.819065e-03</td>\n",
       "      <td>-6.584468e-03</td>\n",
       "      <td>-2.592262e-03</td>\n",
       "      <td>-1.947171e-03</td>\n",
       "      <td>-1.077698e-03</td>\n",
       "    </tr>\n",
       "    <tr>\n",
       "      <th>75%</th>\n",
       "      <td>3.807591e-02</td>\n",
       "      <td>5.068012e-02</td>\n",
       "      <td>3.124802e-02</td>\n",
       "      <td>3.564379e-02</td>\n",
       "      <td>2.835801e-02</td>\n",
       "      <td>2.984439e-02</td>\n",
       "      <td>2.931150e-02</td>\n",
       "      <td>3.430886e-02</td>\n",
       "      <td>3.243232e-02</td>\n",
       "      <td>2.791705e-02</td>\n",
       "    </tr>\n",
       "    <tr>\n",
       "      <th>max</th>\n",
       "      <td>1.107267e-01</td>\n",
       "      <td>5.068012e-02</td>\n",
       "      <td>1.705552e-01</td>\n",
       "      <td>1.320436e-01</td>\n",
       "      <td>1.539137e-01</td>\n",
       "      <td>1.987880e-01</td>\n",
       "      <td>1.811791e-01</td>\n",
       "      <td>1.852344e-01</td>\n",
       "      <td>1.335973e-01</td>\n",
       "      <td>1.356118e-01</td>\n",
       "    </tr>\n",
       "  </tbody>\n",
       "</table>\n",
       "</div>"
      ]
     },
     "execution_count": 42,
     "metadata": {},
     "output_type": "execute_result"
    }
   ],
   "execution_count": 42
  }
 ]
}
