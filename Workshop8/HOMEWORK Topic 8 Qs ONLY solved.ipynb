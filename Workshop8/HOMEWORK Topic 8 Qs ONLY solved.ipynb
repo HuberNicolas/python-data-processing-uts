{
 "nbformat": 4,
 "nbformat_minor": 0,
 "metadata": {
  "colab": {
   "provenance": [],
   "authorship_tag": "ABX9TyPmAu12A1McxjNtpOz/MF4F"
  },
  "kernelspec": {
   "name": "python3",
   "display_name": "Python 3 (ipykernel)",
   "language": "python"
  },
  "language_info": {
   "name": "python"
  }
 },
 "cells": [
  {
   "cell_type": "markdown",
   "source": [
    "Dataframes in Pandas have better flexibility and efficency to read the data\n",
    "\n",
    "However, Numpy is efficient for numerical operations. If you need to perform element-wise operations or linear algebra computations, NumPy is often more suitable."
   ],
   "metadata": {
    "id": "I2WL8ZffL1Zd"
   }
  },
  {
   "cell_type": "markdown",
   "source": [
    "# Cases to highlight the power of Numpy arrays"
   ],
   "metadata": {
    "id": "-lRlC75TMGf_"
   }
  },
  {
   "cell_type": "markdown",
   "source": [
    "**Case 1: Efficiency and Memory Management:**\n",
    "\n",
    "NumPy is designed for efficiency and low-level array manipulation. If memory management and performance are critical, NumPy's arrays are more memory-efficient and faster for certain operations compared to Pandas DataFrames."
   ],
   "metadata": {
    "id": "rmyfqKokMM2I"
   }
  },
  {
   "cell_type": "code",
   "metadata": {
    "colab": {
     "base_uri": "https://localhost:8080/"
    },
    "id": "HatRVT_KLxDO",
    "executionInfo": {
     "status": "ok",
     "timestamp": 1704937597303,
     "user_tz": -660,
     "elapsed": 2025,
     "user": {
      "displayName": "Ali Braytee",
      "userId": "06191627035413823673"
     }
    },
    "outputId": "301ee29c-1adf-4c6a-b006-4c99ebaf6ab5",
    "ExecuteTime": {
     "end_time": "2024-04-11T05:48:18.206722Z",
     "start_time": "2024-04-11T05:48:12.353715Z"
    }
   },
   "source": [
    "#Case 1: Create a Large array multiplication\n",
    "import numpy as np\n",
    "import time\n",
    "\n",
    "\n",
    "sizes = [1, 10, 100, 1000, 10000, 20000]\n",
    "times = []\n",
    "for s in sizes:\n",
    "    start = time.time()\n",
    "    \n",
    "    # Step 1: Generate a large array of random numbers\n",
    "    shape = (s,s)\n",
    "    arr = np.ones(shape)\n",
    "    # Step 2: Multiply each element in the array by 2\n",
    "    arr = 2*arr\n",
    "    \n",
    "    end = time.time()\n",
    "    print(end - start)\n",
    "    times.append(end-start)\n",
    "\n"
   ],
   "outputs": [
    {
     "name": "stdout",
     "output_type": "stream",
     "text": [
      "5.1975250244140625e-05\n",
      "5.7220458984375e-05\n",
      "0.0005459785461425781\n",
      "0.011516809463500977\n",
      "1.2379891872406006\n",
      "4.59469199180603\n"
     ]
    }
   ],
   "execution_count": 1
  },
  {
   "metadata": {
    "ExecuteTime": {
     "end_time": "2024-04-11T05:50:19.529308Z",
     "start_time": "2024-04-11T05:50:17.678879Z"
    }
   },
   "cell_type": "code",
   "source": [
    "import matplotlib.pyplot as plt\n",
    "import seaborn as sns\n",
    "\n",
    "sns.scatterplot(x=sizes, y=times)\n",
    "plt.xscale('log')\n",
    "plt.yscale('log')"
   ],
   "outputs": [
    {
     "data": {
      "text/plain": [
       "<Figure size 640x480 with 1 Axes>"
      ],
      "image/png": "[encoded data removed]"
     },
     "metadata": {},
     "output_type": "display_data"
    }
   ],
   "execution_count": 7
  },
  {
   "cell_type": "markdown",
   "source": [
    "**Case 2: Integration with Other Libraries:**\n",
    "\n",
    "NumPy is a foundational library used by many other scientific computing and machine learning libraries. If you're working with other libraries that rely on NumPy arrays, it makes sense to use NumPy directly."
   ],
   "metadata": {
    "id": "5y8iCx_cM0J2"
   }
  },
  {
   "cell_type": "code",
   "source": [
    "from scipy.stats import norm\n",
    "# Case 2: Using NumPy with Scipy\n",
    "data = np.random.randn(1000)\n",
    "z_scores = norm.pdf(data)\n"
   ],
   "metadata": {
    "id": "P864IdOTM4r2",
    "ExecuteTime": {
     "end_time": "2024-04-11T05:50:42.846721Z",
     "start_time": "2024-04-11T05:50:42.838163Z"
    }
   },
   "outputs": [],
   "execution_count": 8
  },
  {
   "cell_type": "markdown",
   "source": [
    "**Case 3: Creating Custom Data Structures:**\n",
    "\n",
    "NumPy: It allows you to create custom data structures using its array object. If you need a specialized data structure that is not covered by Pandas, NumPy provides flexibility."
   ],
   "metadata": {
    "id": "kg2Rlqv5NCW4"
   }
  },
  {
   "cell_type": "code",
   "source": [
    "# Case 3: Creating a custom 3D array (Tensor)\n",
    "lst = [[[1,2,3], [1,2,3], [1,2,3]], [[1,2,3], [1,2,3], [1,2,3]], [[1,2,3], [1,2,3], [1,2,3]]]\n",
    "tensor = np.array(lst)\n",
    "\n",
    "# Step 4: Create a custom 3D array of zeros using np.zeros\n",
    "shape = (3,3,3)\n",
    "tensor2 = np.zeros(shape)\n",
    "print(tensor)\n",
    "print(tensor2)"
   ],
   "metadata": {
    "id": "rtVAy8lrNDTk",
    "ExecuteTime": {
     "end_time": "2024-04-11T05:56:28.431067Z",
     "start_time": "2024-04-11T05:56:28.424237Z"
    }
   },
   "outputs": [
    {
     "name": "stdout",
     "output_type": "stream",
     "text": [
      "[[[1 2 3]\n",
      "  [1 2 3]\n",
      "  [1 2 3]]\n",
      "\n",
      " [[1 2 3]\n",
      "  [1 2 3]\n",
      "  [1 2 3]]\n",
      "\n",
      " [[1 2 3]\n",
      "  [1 2 3]\n",
      "  [1 2 3]]]\n",
      "[[[0. 0. 0.]\n",
      "  [0. 0. 0.]\n",
      "  [0. 0. 0.]]\n",
      "\n",
      " [[0. 0. 0.]\n",
      "  [0. 0. 0.]\n",
      "  [0. 0. 0.]]\n",
      "\n",
      " [[0. 0. 0.]\n",
      "  [0. 0. 0.]\n",
      "  [0. 0. 0.]]]\n"
     ]
    }
   ],
   "execution_count": 13
  },
  {
   "cell_type": "markdown",
   "source": [
    "**Case 4: Solving a System of Linear Equations python**"
   ],
   "metadata": {
    "id": "ogMAKaBaNLb_"
   }
  },
  {
   "cell_type": "code",
   "source": [
    "# Given system of equations: 2x + 3y = 12 and 4x - 5y = 7\n",
    "#create a matrix 2D to add coefficients\n",
    "coefficients = [[2,3] , [4, -5]]\n",
    "constants = [12, 7]\n",
    "\n",
    "#create a vector 1D array for constants\n",
    "\n",
    "\n",
    "# Solve for x and y using NumPy's linear algebra functions\n",
    "solution = np.linalg.solve(coefficients, constants)\n",
    "\n",
    "#print solution\n",
    "print(solution)\n"
   ],
   "metadata": {
    "colab": {
     "base_uri": "https://localhost:8080/"
    },
    "id": "1y80EwphoOFx",
    "executionInfo": {
     "status": "ok",
     "timestamp": 1704944847112,
     "user_tz": -660,
     "elapsed": 507,
     "user": {
      "displayName": "Ali Braytee",
      "userId": "06191627035413823673"
     }
    },
    "outputId": "ecf5cd44-fd7e-44a2-9272-03077da635a1",
    "ExecuteTime": {
     "end_time": "2024-04-11T05:57:56.388728Z",
     "start_time": "2024-04-11T05:57:56.381314Z"
    }
   },
   "outputs": [
    {
     "name": "stdout",
     "output_type": "stream",
     "text": [
      "[3.68181818 1.54545455]\n"
     ]
    }
   ],
   "execution_count": 14
  },
  {
   "cell_type": "markdown",
   "source": [
    "NumPy's linalg.solve() function can efficiently solve a system of linear equations represented by matrices."
   ],
   "metadata": {
    "id": "pbkVoQzgoeWw"
   }
  },
  {
   "cell_type": "markdown",
   "source": [
    "**Case 5 finding roots for quadritic equation x^2-3x+2=0**"
   ],
   "metadata": {
    "id": "fkBoloczoh-W"
   }
  },
  {
   "cell_type": "code",
   "source": [
    "import numpy as np\n",
    "\n",
    "# Coefficients of the quadratic equation: ax^2 + bx + c = 0\n",
    "#create three variables for Coefficients\n",
    "\n",
    "# x^2-3x+2=0\n",
    "a = 1\n",
    "b = -3\n",
    "c = 2\n",
    "\n",
    "# Solve the quadratic equation using NumPy's roots function\n",
    "roots = np.roots([a, b, c])\n",
    "\n",
    "print(\"Roots of the quadratic equation:\")\n",
    "print(roots)\n"
   ],
   "metadata": {
    "colab": {
     "base_uri": "https://localhost:8080/"
    },
    "id": "hhKKrXoNovnU",
    "executionInfo": {
     "status": "ok",
     "timestamp": 1704944928699,
     "user_tz": -660,
     "elapsed": 315,
     "user": {
      "displayName": "Ali Braytee",
      "userId": "06191627035413823673"
     }
    },
    "outputId": "a44df6ab-807f-4b34-986a-ddabc404689f",
    "ExecuteTime": {
     "end_time": "2024-04-11T05:59:45.938037Z",
     "start_time": "2024-04-11T05:59:45.929136Z"
    }
   },
   "outputs": [
    {
     "name": "stdout",
     "output_type": "stream",
     "text": [
      "Roots of the quadratic equation:\n",
      "[2. 1.]\n"
     ]
    }
   ],
   "execution_count": 16
  },
  {
   "cell_type": "markdown",
   "source": [
    "**Case 6 Solving multiple linear equations**\n",
    "Suppose we have:\n",
    "\n",
    "* 3x+2y-z=7\n",
    "* 2x-4y+2z=-4\n",
    "* -x+0.5y-z=-5\n"
   ],
   "metadata": {
    "id": "uIUatx1kprrO"
   }
  },
  {
   "cell_type": "code",
   "source": [
    "#we can represent this system from Ax=B\n",
    "# Build the Coefficient matrix A to hold coefficients\n",
    "\n",
    "# Right-hand side matrix B\n",
    "B = np.array([7, -4, -5])\n",
    "A = np.array([[3,2,-1], [2, -4, 2,], [-1, 0.5, -1]])\n",
    "\n",
    "# Solve for the variables x, y, z\n",
    "solution = np.linalg.solve(A, B)\n",
    "\n",
    "#Display the solution\n",
    "print(\"Solution for the system of linear equations:\")\n",
    "print(solution)"
   ],
   "metadata": {
    "colab": {
     "base_uri": "https://localhost:8080/"
    },
    "id": "P9LHjbxuqJRe",
    "executionInfo": {
     "status": "ok",
     "timestamp": 1704945347051,
     "user_tz": -660,
     "elapsed": 330,
     "user": {
      "displayName": "Ali Braytee",
      "userId": "06191627035413823673"
     }
    },
    "outputId": "e7a6b6dc-9f91-491b-81b2-9f25df6694c0",
    "ExecuteTime": {
     "end_time": "2024-04-11T06:01:16.829475Z",
     "start_time": "2024-04-11T06:01:16.823050Z"
    }
   },
   "outputs": [
    {
     "name": "stdout",
     "output_type": "stream",
     "text": [
      "Solution for the system of linear equations:\n",
      "[1.25       4.66666667 6.08333333]\n"
     ]
    }
   ],
   "execution_count": 17
  }
 ]
}
