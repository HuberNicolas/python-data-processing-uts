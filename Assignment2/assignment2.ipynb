{
 "cells": [
  {
   "cell_type": "code",
   "id": "initial_id",
   "metadata": {
    "collapsed": true,
    "ExecuteTime": {
     "end_time": "2024-04-12T05:13:55.785310Z",
     "start_time": "2024-04-12T05:13:55.781325Z"
    }
   },
   "source": [
    "# Imports\n",
    "import numpy as np\n",
    "import pandas as pd\n",
    "\n",
    "import seaborn as sns\n",
    "import matplotlib.pyplot as plt"
   ],
   "outputs": [],
   "execution_count": 1
  },
  {
   "metadata": {},
   "cell_type": "markdown",
   "source": "#  TASK 1: Load the dataset and demonstrate the successful loading of the dataset by displaying both the top and bottom five rows.",
   "id": "82ff20b12dbca038"
  },
  {
   "metadata": {
    "ExecuteTime": {
     "end_time": "2024-04-12T05:13:56.110238Z",
     "start_time": "2024-04-12T05:13:56.093323Z"
    }
   },
   "cell_type": "code",
   "source": [
    "PATH = './data/drug_consumption.csv'    \n",
    "df = pd.read_csv(filepath_or_buffer=PATH, header=0)\n",
    "# Source: https://www.kaggle.com/datasets/mexwell/drug-consumption-classification"
   ],
   "id": "394460222f42e636",
   "outputs": [],
   "execution_count": 2
  },
  {
   "metadata": {
    "ExecuteTime": {
     "end_time": "2024-04-12T05:13:56.146660Z",
     "start_time": "2024-04-12T05:13:56.113119Z"
    }
   },
   "cell_type": "code",
   "source": "df.head(n=5)",
   "id": "490f63970bf95236",
   "outputs": [
    {
     "data": {
      "text/plain": [
       "   ID      Age   Gender  Education  Country  Ethnicity   Nscore   Escore  \\\n",
       "0   1  0.49788  0.48246   -0.05921  0.96082    0.12600  0.31287 -0.57545   \n",
       "1   2 -0.07854 -0.48246    1.98437  0.96082   -0.31685 -0.67825  1.93886   \n",
       "2   3  0.49788 -0.48246   -0.05921  0.96082   -0.31685 -0.46725  0.80523   \n",
       "3   4 -0.95197  0.48246    1.16365  0.96082   -0.31685 -0.14882 -0.80615   \n",
       "4   5  0.49788  0.48246    1.98437  0.96082   -0.31685  0.73545 -1.63340   \n",
       "\n",
       "    Oscore   Ascore  ...  Ecstasy  Heroin  Ketamine Legalh  LSD Meth  \\\n",
       "0 -0.58331 -0.91699  ...      CL0     CL0       CL0    CL0  CL0  CL0   \n",
       "1  1.43533  0.76096  ...      CL4     CL0       CL2    CL0  CL2  CL3   \n",
       "2 -0.84732 -1.62090  ...      CL0     CL0       CL0    CL0  CL0  CL0   \n",
       "3 -0.01928  0.59042  ...      CL0     CL0       CL2    CL0  CL0  CL0   \n",
       "4 -0.45174 -0.30172  ...      CL1     CL0       CL0    CL1  CL0  CL0   \n",
       "\n",
       "  Mushrooms Nicotine Semer  VSA  \n",
       "0       CL0      CL2   CL0  CL0  \n",
       "1       CL0      CL4   CL0  CL0  \n",
       "2       CL1      CL0   CL0  CL0  \n",
       "3       CL0      CL2   CL0  CL0  \n",
       "4       CL2      CL2   CL0  CL0  \n",
       "\n",
       "[5 rows x 32 columns]"
      ],
      "text/html": [
       "<div>\n",
       "<style scoped>\n",
       "    .dataframe tbody tr th:only-of-type {\n",
       "        vertical-align: middle;\n",
       "    }\n",
       "\n",
       "    .dataframe tbody tr th {\n",
       "        vertical-align: top;\n",
       "    }\n",
       "\n",
       "    .dataframe thead th {\n",
       "        text-align: right;\n",
       "    }\n",
       "</style>\n",
       "<table border=\"1\" class=\"dataframe\">\n",
       "  <thead>\n",
       "    <tr style=\"text-align: right;\">\n",
       "      <th></th>\n",
       "      <th>ID</th>\n",
       "      <th>Age</th>\n",
       "      <th>Gender</th>\n",
       "      <th>Education</th>\n",
       "      <th>Country</th>\n",
       "      <th>Ethnicity</th>\n",
       "      <th>Nscore</th>\n",
       "      <th>Escore</th>\n",
       "      <th>Oscore</th>\n",
       "      <th>Ascore</th>\n",
       "      <th>...</th>\n",
       "      <th>Ecstasy</th>\n",
       "      <th>Heroin</th>\n",
       "      <th>Ketamine</th>\n",
       "      <th>Legalh</th>\n",
       "      <th>LSD</th>\n",
       "      <th>Meth</th>\n",
       "      <th>Mushrooms</th>\n",
       "      <th>Nicotine</th>\n",
       "      <th>Semer</th>\n",
       "      <th>VSA</th>\n",
       "    </tr>\n",
       "  </thead>\n",
       "  <tbody>\n",
       "    <tr>\n",
       "      <th>0</th>\n",
       "      <td>1</td>\n",
       "      <td>0.49788</td>\n",
       "      <td>0.48246</td>\n",
       "      <td>-0.05921</td>\n",
       "      <td>0.96082</td>\n",
       "      <td>0.12600</td>\n",
       "      <td>0.31287</td>\n",
       "      <td>-0.57545</td>\n",
       "      <td>-0.58331</td>\n",
       "      <td>-0.91699</td>\n",
       "      <td>...</td>\n",
       "      <td>CL0</td>\n",
       "      <td>CL0</td>\n",
       "      <td>CL0</td>\n",
       "      <td>CL0</td>\n",
       "      <td>CL0</td>\n",
       "      <td>CL0</td>\n",
       "      <td>CL0</td>\n",
       "      <td>CL2</td>\n",
       "      <td>CL0</td>\n",
       "      <td>CL0</td>\n",
       "    </tr>\n",
       "    <tr>\n",
       "      <th>1</th>\n",
       "      <td>2</td>\n",
       "      <td>-0.07854</td>\n",
       "      <td>-0.48246</td>\n",
       "      <td>1.98437</td>\n",
       "      <td>0.96082</td>\n",
       "      <td>-0.31685</td>\n",
       "      <td>-0.67825</td>\n",
       "      <td>1.93886</td>\n",
       "      <td>1.43533</td>\n",
       "      <td>0.76096</td>\n",
       "      <td>...</td>\n",
       "      <td>CL4</td>\n",
       "      <td>CL0</td>\n",
       "      <td>CL2</td>\n",
       "      <td>CL0</td>\n",
       "      <td>CL2</td>\n",
       "      <td>CL3</td>\n",
       "      <td>CL0</td>\n",
       "      <td>CL4</td>\n",
       "      <td>CL0</td>\n",
       "      <td>CL0</td>\n",
       "    </tr>\n",
       "    <tr>\n",
       "      <th>2</th>\n",
       "      <td>3</td>\n",
       "      <td>0.49788</td>\n",
       "      <td>-0.48246</td>\n",
       "      <td>-0.05921</td>\n",
       "      <td>0.96082</td>\n",
       "      <td>-0.31685</td>\n",
       "      <td>-0.46725</td>\n",
       "      <td>0.80523</td>\n",
       "      <td>-0.84732</td>\n",
       "      <td>-1.62090</td>\n",
       "      <td>...</td>\n",
       "      <td>CL0</td>\n",
       "      <td>CL0</td>\n",
       "      <td>CL0</td>\n",
       "      <td>CL0</td>\n",
       "      <td>CL0</td>\n",
       "      <td>CL0</td>\n",
       "      <td>CL1</td>\n",
       "      <td>CL0</td>\n",
       "      <td>CL0</td>\n",
       "      <td>CL0</td>\n",
       "    </tr>\n",
       "    <tr>\n",
       "      <th>3</th>\n",
       "      <td>4</td>\n",
       "      <td>-0.95197</td>\n",
       "      <td>0.48246</td>\n",
       "      <td>1.16365</td>\n",
       "      <td>0.96082</td>\n",
       "      <td>-0.31685</td>\n",
       "      <td>-0.14882</td>\n",
       "      <td>-0.80615</td>\n",
       "      <td>-0.01928</td>\n",
       "      <td>0.59042</td>\n",
       "      <td>...</td>\n",
       "      <td>CL0</td>\n",
       "      <td>CL0</td>\n",
       "      <td>CL2</td>\n",
       "      <td>CL0</td>\n",
       "      <td>CL0</td>\n",
       "      <td>CL0</td>\n",
       "      <td>CL0</td>\n",
       "      <td>CL2</td>\n",
       "      <td>CL0</td>\n",
       "      <td>CL0</td>\n",
       "    </tr>\n",
       "    <tr>\n",
       "      <th>4</th>\n",
       "      <td>5</td>\n",
       "      <td>0.49788</td>\n",
       "      <td>0.48246</td>\n",
       "      <td>1.98437</td>\n",
       "      <td>0.96082</td>\n",
       "      <td>-0.31685</td>\n",
       "      <td>0.73545</td>\n",
       "      <td>-1.63340</td>\n",
       "      <td>-0.45174</td>\n",
       "      <td>-0.30172</td>\n",
       "      <td>...</td>\n",
       "      <td>CL1</td>\n",
       "      <td>CL0</td>\n",
       "      <td>CL0</td>\n",
       "      <td>CL1</td>\n",
       "      <td>CL0</td>\n",
       "      <td>CL0</td>\n",
       "      <td>CL2</td>\n",
       "      <td>CL2</td>\n",
       "      <td>CL0</td>\n",
       "      <td>CL0</td>\n",
       "    </tr>\n",
       "  </tbody>\n",
       "</table>\n",
       "<p>5 rows × 32 columns</p>\n",
       "</div>"
      ]
     },
     "execution_count": 3,
     "metadata": {},
     "output_type": "execute_result"
    }
   ],
   "execution_count": 3
  },
  {
   "metadata": {
    "ExecuteTime": {
     "end_time": "2024-04-12T05:13:56.229997Z",
     "start_time": "2024-04-12T05:13:56.206416Z"
    }
   },
   "cell_type": "code",
   "source": "df.tail(n=5)",
   "id": "e171b3c25b8cc0d7",
   "outputs": [
    {
     "data": {
      "text/plain": [
       "        ID      Age   Gender  Education  Country  Ethnicity   Nscore   Escore  \\\n",
       "1880  1884 -0.95197  0.48246   -0.61113 -0.57009   -0.31685 -1.19430  1.74091   \n",
       "1881  1885 -0.95197 -0.48246   -0.61113 -0.57009   -0.31685 -0.24649  1.74091   \n",
       "1882  1886 -0.07854  0.48246    0.45468 -0.57009   -0.31685  1.13281 -1.37639   \n",
       "1883  1887 -0.95197  0.48246   -0.61113 -0.57009   -0.31685  0.91093 -1.92173   \n",
       "1884  1888 -0.95197 -0.48246   -0.61113  0.21128   -0.31685 -0.46725  2.12700   \n",
       "\n",
       "       Oscore   Ascore  ...  Ecstasy  Heroin  Ketamine Legalh  LSD Meth  \\\n",
       "1880  1.88511  0.76096  ...      CL0     CL0       CL0    CL3  CL3  CL0   \n",
       "1881  0.58331  0.76096  ...      CL2     CL0       CL0    CL3  CL5  CL4   \n",
       "1882 -1.27553 -1.77200  ...      CL4     CL0       CL2    CL0  CL2  CL0   \n",
       "1883  0.29338 -1.62090  ...      CL3     CL0       CL0    CL3  CL3  CL0   \n",
       "1884  1.65653  1.11406  ...      CL3     CL0       CL0    CL3  CL3  CL0   \n",
       "\n",
       "     Mushrooms Nicotine Semer  VSA  \n",
       "1880       CL0      CL0   CL0  CL5  \n",
       "1881       CL4      CL5   CL0  CL0  \n",
       "1882       CL2      CL6   CL0  CL0  \n",
       "1883       CL3      CL4   CL0  CL0  \n",
       "1884       CL3      CL6   CL0  CL2  \n",
       "\n",
       "[5 rows x 32 columns]"
      ],
      "text/html": [
       "<div>\n",
       "<style scoped>\n",
       "    .dataframe tbody tr th:only-of-type {\n",
       "        vertical-align: middle;\n",
       "    }\n",
       "\n",
       "    .dataframe tbody tr th {\n",
       "        vertical-align: top;\n",
       "    }\n",
       "\n",
       "    .dataframe thead th {\n",
       "        text-align: right;\n",
       "    }\n",
       "</style>\n",
       "<table border=\"1\" class=\"dataframe\">\n",
       "  <thead>\n",
       "    <tr style=\"text-align: right;\">\n",
       "      <th></th>\n",
       "      <th>ID</th>\n",
       "      <th>Age</th>\n",
       "      <th>Gender</th>\n",
       "      <th>Education</th>\n",
       "      <th>Country</th>\n",
       "      <th>Ethnicity</th>\n",
       "      <th>Nscore</th>\n",
       "      <th>Escore</th>\n",
       "      <th>Oscore</th>\n",
       "      <th>Ascore</th>\n",
       "      <th>...</th>\n",
       "      <th>Ecstasy</th>\n",
       "      <th>Heroin</th>\n",
       "      <th>Ketamine</th>\n",
       "      <th>Legalh</th>\n",
       "      <th>LSD</th>\n",
       "      <th>Meth</th>\n",
       "      <th>Mushrooms</th>\n",
       "      <th>Nicotine</th>\n",
       "      <th>Semer</th>\n",
       "      <th>VSA</th>\n",
       "    </tr>\n",
       "  </thead>\n",
       "  <tbody>\n",
       "    <tr>\n",
       "      <th>1880</th>\n",
       "      <td>1884</td>\n",
       "      <td>-0.95197</td>\n",
       "      <td>0.48246</td>\n",
       "      <td>-0.61113</td>\n",
       "      <td>-0.57009</td>\n",
       "      <td>-0.31685</td>\n",
       "      <td>-1.19430</td>\n",
       "      <td>1.74091</td>\n",
       "      <td>1.88511</td>\n",
       "      <td>0.76096</td>\n",
       "      <td>...</td>\n",
       "      <td>CL0</td>\n",
       "      <td>CL0</td>\n",
       "      <td>CL0</td>\n",
       "      <td>CL3</td>\n",
       "      <td>CL3</td>\n",
       "      <td>CL0</td>\n",
       "      <td>CL0</td>\n",
       "      <td>CL0</td>\n",
       "      <td>CL0</td>\n",
       "      <td>CL5</td>\n",
       "    </tr>\n",
       "    <tr>\n",
       "      <th>1881</th>\n",
       "      <td>1885</td>\n",
       "      <td>-0.95197</td>\n",
       "      <td>-0.48246</td>\n",
       "      <td>-0.61113</td>\n",
       "      <td>-0.57009</td>\n",
       "      <td>-0.31685</td>\n",
       "      <td>-0.24649</td>\n",
       "      <td>1.74091</td>\n",
       "      <td>0.58331</td>\n",
       "      <td>0.76096</td>\n",
       "      <td>...</td>\n",
       "      <td>CL2</td>\n",
       "      <td>CL0</td>\n",
       "      <td>CL0</td>\n",
       "      <td>CL3</td>\n",
       "      <td>CL5</td>\n",
       "      <td>CL4</td>\n",
       "      <td>CL4</td>\n",
       "      <td>CL5</td>\n",
       "      <td>CL0</td>\n",
       "      <td>CL0</td>\n",
       "    </tr>\n",
       "    <tr>\n",
       "      <th>1882</th>\n",
       "      <td>1886</td>\n",
       "      <td>-0.07854</td>\n",
       "      <td>0.48246</td>\n",
       "      <td>0.45468</td>\n",
       "      <td>-0.57009</td>\n",
       "      <td>-0.31685</td>\n",
       "      <td>1.13281</td>\n",
       "      <td>-1.37639</td>\n",
       "      <td>-1.27553</td>\n",
       "      <td>-1.77200</td>\n",
       "      <td>...</td>\n",
       "      <td>CL4</td>\n",
       "      <td>CL0</td>\n",
       "      <td>CL2</td>\n",
       "      <td>CL0</td>\n",
       "      <td>CL2</td>\n",
       "      <td>CL0</td>\n",
       "      <td>CL2</td>\n",
       "      <td>CL6</td>\n",
       "      <td>CL0</td>\n",
       "      <td>CL0</td>\n",
       "    </tr>\n",
       "    <tr>\n",
       "      <th>1883</th>\n",
       "      <td>1887</td>\n",
       "      <td>-0.95197</td>\n",
       "      <td>0.48246</td>\n",
       "      <td>-0.61113</td>\n",
       "      <td>-0.57009</td>\n",
       "      <td>-0.31685</td>\n",
       "      <td>0.91093</td>\n",
       "      <td>-1.92173</td>\n",
       "      <td>0.29338</td>\n",
       "      <td>-1.62090</td>\n",
       "      <td>...</td>\n",
       "      <td>CL3</td>\n",
       "      <td>CL0</td>\n",
       "      <td>CL0</td>\n",
       "      <td>CL3</td>\n",
       "      <td>CL3</td>\n",
       "      <td>CL0</td>\n",
       "      <td>CL3</td>\n",
       "      <td>CL4</td>\n",
       "      <td>CL0</td>\n",
       "      <td>CL0</td>\n",
       "    </tr>\n",
       "    <tr>\n",
       "      <th>1884</th>\n",
       "      <td>1888</td>\n",
       "      <td>-0.95197</td>\n",
       "      <td>-0.48246</td>\n",
       "      <td>-0.61113</td>\n",
       "      <td>0.21128</td>\n",
       "      <td>-0.31685</td>\n",
       "      <td>-0.46725</td>\n",
       "      <td>2.12700</td>\n",
       "      <td>1.65653</td>\n",
       "      <td>1.11406</td>\n",
       "      <td>...</td>\n",
       "      <td>CL3</td>\n",
       "      <td>CL0</td>\n",
       "      <td>CL0</td>\n",
       "      <td>CL3</td>\n",
       "      <td>CL3</td>\n",
       "      <td>CL0</td>\n",
       "      <td>CL3</td>\n",
       "      <td>CL6</td>\n",
       "      <td>CL0</td>\n",
       "      <td>CL2</td>\n",
       "    </tr>\n",
       "  </tbody>\n",
       "</table>\n",
       "<p>5 rows × 32 columns</p>\n",
       "</div>"
      ]
     },
     "execution_count": 4,
     "metadata": {},
     "output_type": "execute_result"
    }
   ],
   "execution_count": 4
  },
  {
   "metadata": {},
   "cell_type": "markdown",
   "source": "# TASK 2: Provide insights into the dataset by displaying its size and the data types of its columns.",
   "id": "ac34fe7bf4eedf80"
  },
  {
   "metadata": {
    "ExecuteTime": {
     "end_time": "2024-04-12T05:13:56.289164Z",
     "start_time": "2024-04-12T05:13:56.284009Z"
    }
   },
   "cell_type": "code",
   "source": [
    "df_dimensions = df.shape\n",
    "print(f'The dimension of the dataframe is equal to {df_dimensions}, which means we have {df_dimensions[0]} rows and {df_dimensions[1]} columns.')"
   ],
   "id": "b7aed5d6b89048ac",
   "outputs": [
    {
     "name": "stdout",
     "output_type": "stream",
     "text": [
      "The dimension of the dataframe is equal to (1885, 32), which means we have 1885 rows and 32 columns.\n"
     ]
    }
   ],
   "execution_count": 5
  },
  {
   "metadata": {
    "ExecuteTime": {
     "end_time": "2024-04-12T05:13:56.367018Z",
     "start_time": "2024-04-12T05:13:56.362801Z"
    }
   },
   "cell_type": "code",
   "source": [
    "df_size = df.size\n",
    "print(f'The size of the dataframe is {df_size}, which is equal to {df_dimensions[0]} rows * {df_dimensions[1]} columns.')"
   ],
   "id": "da0d4bd3327e2c85",
   "outputs": [
    {
     "name": "stdout",
     "output_type": "stream",
     "text": [
      "The size of the dataframe is 60320, which is equal to 1885 rows * 32 columns.\n"
     ]
    }
   ],
   "execution_count": 6
  },
  {
   "metadata": {
    "ExecuteTime": {
     "end_time": "2024-04-12T05:13:56.509853Z",
     "start_time": "2024-04-12T05:13:56.490147Z"
    }
   },
   "cell_type": "code",
   "source": [
    "# Just in case size is referring to the amount of memory used by the df\n",
    "df.memory_usage(deep=True) # Return the memory usage of each column in bytes. The memory usage can optionally include the contribution of the index and elements of object dtype."
   ],
   "id": "36e60fe529ec0c83",
   "outputs": [
    {
     "data": {
      "text/plain": [
       "Index          132\n",
       "ID           15080\n",
       "Age          15080\n",
       "Gender       15080\n",
       "Education    15080\n",
       "Country      15080\n",
       "Ethnicity    15080\n",
       "Nscore       15080\n",
       "Escore       15080\n",
       "Oscore       15080\n",
       "Ascore       15080\n",
       "Cscore       15080\n",
       "Impulsive    15080\n",
       "SS           15080\n",
       "Alcohol      98020\n",
       "Amphet       98020\n",
       "Amyl         98020\n",
       "Benzos       98020\n",
       "Caff         98020\n",
       "Cannabis     98020\n",
       "Choc         98020\n",
       "Coke         98020\n",
       "Crack        98020\n",
       "Ecstasy      98020\n",
       "Heroin       98020\n",
       "Ketamine     98020\n",
       "Legalh       98020\n",
       "LSD          98020\n",
       "Meth         98020\n",
       "Mushrooms    98020\n",
       "Nicotine     98020\n",
       "Semer        98020\n",
       "VSA          98020\n",
       "dtype: int64"
      ]
     },
     "execution_count": 7,
     "metadata": {},
     "output_type": "execute_result"
    }
   ],
   "execution_count": 7
  },
  {
   "metadata": {
    "ExecuteTime": {
     "end_time": "2024-04-12T05:13:56.742050Z",
     "start_time": "2024-04-12T05:13:56.733667Z"
    }
   },
   "cell_type": "code",
   "source": "df.dtypes # Print all column types",
   "id": "f7050d97443138b3",
   "outputs": [
    {
     "data": {
      "text/plain": [
       "ID             int64\n",
       "Age          float64\n",
       "Gender       float64\n",
       "Education    float64\n",
       "Country      float64\n",
       "Ethnicity    float64\n",
       "Nscore       float64\n",
       "Escore       float64\n",
       "Oscore       float64\n",
       "Ascore       float64\n",
       "Cscore       float64\n",
       "Impulsive    float64\n",
       "SS           float64\n",
       "Alcohol       object\n",
       "Amphet        object\n",
       "Amyl          object\n",
       "Benzos        object\n",
       "Caff          object\n",
       "Cannabis      object\n",
       "Choc          object\n",
       "Coke          object\n",
       "Crack         object\n",
       "Ecstasy       object\n",
       "Heroin        object\n",
       "Ketamine      object\n",
       "Legalh        object\n",
       "LSD           object\n",
       "Meth          object\n",
       "Mushrooms     object\n",
       "Nicotine      object\n",
       "Semer         object\n",
       "VSA           object\n",
       "dtype: object"
      ]
     },
     "execution_count": 8,
     "metadata": {},
     "output_type": "execute_result"
    }
   ],
   "execution_count": 8
  },
  {
   "metadata": {
    "ExecuteTime": {
     "end_time": "2024-04-12T05:13:56.922543Z",
     "start_time": "2024-04-12T05:13:56.916800Z"
    }
   },
   "cell_type": "code",
   "source": [
    "for column in df.columns:\n",
    "    print(f'Column {column} has type: {df[column].dtype}') # Print single column types"
   ],
   "id": "36b2af5c4f353ec9",
   "outputs": [
    {
     "name": "stdout",
     "output_type": "stream",
     "text": [
      "Column ID has type: int64\n",
      "Column Age has type: float64\n",
      "Column Gender has type: float64\n",
      "Column Education has type: float64\n",
      "Column Country has type: float64\n",
      "Column Ethnicity has type: float64\n",
      "Column Nscore has type: float64\n",
      "Column Escore has type: float64\n",
      "Column Oscore has type: float64\n",
      "Column Ascore has type: float64\n",
      "Column Cscore has type: float64\n",
      "Column Impulsive has type: float64\n",
      "Column SS has type: float64\n",
      "Column Alcohol has type: object\n",
      "Column Amphet has type: object\n",
      "Column Amyl has type: object\n",
      "Column Benzos has type: object\n",
      "Column Caff has type: object\n",
      "Column Cannabis has type: object\n",
      "Column Choc has type: object\n",
      "Column Coke has type: object\n",
      "Column Crack has type: object\n",
      "Column Ecstasy has type: object\n",
      "Column Heroin has type: object\n",
      "Column Ketamine has type: object\n",
      "Column Legalh has type: object\n",
      "Column LSD has type: object\n",
      "Column Meth has type: object\n",
      "Column Mushrooms has type: object\n",
      "Column Nicotine has type: object\n",
      "Column Semer has type: object\n",
      "Column VSA has type: object\n"
     ]
    }
   ],
   "execution_count": 9
  },
  {
   "metadata": {},
   "cell_type": "markdown",
   "source": "# TASK3: Select the required columns and filter out the data you don't need.",
   "id": "edac20dd695e5a8c"
  },
  {
   "metadata": {
    "ExecuteTime": {
     "end_time": "2024-04-12T05:13:57.195003Z",
     "start_time": "2024-04-12T05:13:57.190561Z"
    }
   },
   "cell_type": "code",
   "source": [
    "print('The df contains the following columns:')\n",
    "columns_list = list(df.columns)\n",
    "print(*columns_list, sep=', ') # * will split automatically by a space, separator is defined as \", \""
   ],
   "id": "f34070794e1ee7d7",
   "outputs": [
    {
     "name": "stdout",
     "output_type": "stream",
     "text": [
      "The df contains the following columns:\n",
      "ID, Age, Gender, Education, Country, Ethnicity, Nscore, Escore, Oscore, Ascore, Cscore, Impulsive, SS, Alcohol, Amphet, Amyl, Benzos, Caff, Cannabis, Choc, Coke, Crack, Ecstasy, Heroin, Ketamine, Legalh, LSD, Meth, Mushrooms, Nicotine, Semer, VSA\n"
     ]
    }
   ],
   "execution_count": 10
  },
  {
   "metadata": {
    "ExecuteTime": {
     "end_time": "2024-04-12T05:13:57.296062Z",
     "start_time": "2024-04-12T05:13:57.286309Z"
    }
   },
   "cell_type": "code",
   "source": [
    "# We will only use a subset of the columns, dropping most of the column classes referring to an addiction\n",
    "# Keep 0-13 as well as 'Alcohol', 'Benzos', 'Cannabis', 'Coke', 'Crack', 'Ecstasy', 'Heroin', 'LSD', 'METH', 'Mushrooms', and 'Nicotine'\n",
    "\n",
    "# Keep the initial 13 columns\n",
    "df_reduced = df.iloc[:, 0:13]\n",
    "\n",
    "# Add the specific drug-related columns by their names\n",
    "target_columns = ['Alcohol', 'Benzos', 'Cannabis', 'Coke', 'Crack', 'Ecstasy', 'Heroin', 'LSD', 'Meth', 'Mushrooms', 'Nicotine']\n",
    "df_reduced = df_reduced.join(df[target_columns])\n",
    "\n",
    "print(df_reduced.columns)\n",
    "df = df_reduced # renaming"
   ],
   "id": "52368773f7ca905b",
   "outputs": [
    {
     "name": "stdout",
     "output_type": "stream",
     "text": [
      "Index(['ID', 'Age', 'Gender', 'Education', 'Country', 'Ethnicity', 'Nscore',\n",
      "       'Escore', 'Oscore', 'Ascore', 'Cscore', 'Impulsive', 'SS', 'Alcohol',\n",
      "       'Benzos', 'Cannabis', 'Coke', 'Crack', 'Ecstasy', 'Heroin', 'LSD',\n",
      "       'Meth', 'Mushrooms', 'Nicotine'],\n",
      "      dtype='object')\n"
     ]
    }
   ],
   "execution_count": 11
  },
  {
   "metadata": {
    "ExecuteTime": {
     "end_time": "2024-04-12T05:13:57.481667Z",
     "start_time": "2024-04-12T05:13:57.470252Z"
    }
   },
   "cell_type": "code",
   "source": [
    "# check which columns contain NaN values\n",
    "df.isna().any()"
   ],
   "id": "f283c221ef0dae52",
   "outputs": [
    {
     "data": {
      "text/plain": [
       "ID           False\n",
       "Age          False\n",
       "Gender       False\n",
       "Education    False\n",
       "Country      False\n",
       "Ethnicity    False\n",
       "Nscore       False\n",
       "Escore       False\n",
       "Oscore       False\n",
       "Ascore       False\n",
       "Cscore       False\n",
       "Impulsive    False\n",
       "SS           False\n",
       "Alcohol      False\n",
       "Benzos       False\n",
       "Cannabis     False\n",
       "Coke         False\n",
       "Crack        False\n",
       "Ecstasy      False\n",
       "Heroin       False\n",
       "LSD          False\n",
       "Meth         False\n",
       "Mushrooms    False\n",
       "Nicotine     False\n",
       "dtype: bool"
      ]
     },
     "execution_count": 12,
     "metadata": {},
     "output_type": "execute_result"
    }
   ],
   "execution_count": 12
  },
  {
   "metadata": {
    "ExecuteTime": {
     "end_time": "2024-04-12T05:13:57.523514Z",
     "start_time": "2024-04-12T05:13:57.520308Z"
    }
   },
   "cell_type": "code",
   "source": [
    "# We are lucky and our dataset does not need to be reduced more, since there are no NAN values present.\n",
    "# We could use the following command to reduce it further:\n",
    "# filtered_df = df[df['name'].notnull()] # 'name' is the corresponding column; filters out only rows that does not have any NaN values in 'name' column."
   ],
   "id": "40defa1cfeb8409f",
   "outputs": [],
   "execution_count": 13
  },
  {
   "metadata": {},
   "cell_type": "markdown",
   "source": "# TASK4: Next, employ a for or while loop to iterate through a specific numeric column, calculating the sum and average of its values. ",
   "id": "345ac0eff6fb81a5"
  },
  {
   "metadata": {
    "ExecuteTime": {
     "end_time": "2024-04-12T05:13:57.646290Z",
     "start_time": "2024-04-12T05:13:57.636694Z"
    }
   },
   "cell_type": "code",
   "source": [
    "for column in df.columns:\n",
    "    if pd.api.types.is_numeric_dtype(df[column].dtype):\n",
    "        mean = df[column].mean()\n",
    "        sum = df[column].sum()\n",
    "        print(f'Column {column} is numeric. Mean: {mean:.2f}, Sum: {sum:.2f}')\n",
    "    else:\n",
    "        print(f'Column {column} is not numeric.')"
   ],
   "id": "645d73c48466fdc1",
   "outputs": [
    {
     "name": "stdout",
     "output_type": "stream",
     "text": [
      "Column ID is numeric. Mean: 945.29, Sum: 1781881.00\n",
      "Column Age is numeric. Mean: 0.03, Sum: 65.24\n",
      "Column Gender is numeric. Mean: -0.00, Sum: -0.48\n",
      "Column Education is numeric. Mean: -0.00, Sum: -7.17\n",
      "Column Country is numeric. Mean: 0.36, Sum: 670.20\n",
      "Column Ethnicity is numeric. Mean: -0.31, Sum: -583.55\n",
      "Column Nscore is numeric. Mean: 0.00, Sum: 0.09\n",
      "Column Escore is numeric. Mean: -0.00, Sum: -0.31\n",
      "Column Oscore is numeric. Mean: -0.00, Sum: -1.01\n",
      "Column Ascore is numeric. Mean: -0.00, Sum: -0.46\n",
      "Column Cscore is numeric. Mean: -0.00, Sum: -0.73\n",
      "Column Impulsive is numeric. Mean: 0.01, Sum: 13.60\n",
      "Column SS is numeric. Mean: -0.00, Sum: -6.20\n",
      "Column Alcohol is not numeric.\n",
      "Column Benzos is not numeric.\n",
      "Column Cannabis is not numeric.\n",
      "Column Coke is not numeric.\n",
      "Column Crack is not numeric.\n",
      "Column Ecstasy is not numeric.\n",
      "Column Heroin is not numeric.\n",
      "Column LSD is not numeric.\n",
      "Column Meth is not numeric.\n",
      "Column Mushrooms is not numeric.\n",
      "Column Nicotine is not numeric.\n"
     ]
    }
   ],
   "execution_count": 14
  },
  {
   "metadata": {
    "ExecuteTime": {
     "end_time": "2024-04-12T05:13:57.946557Z",
     "start_time": "2024-04-12T05:13:57.751520Z"
    }
   },
   "cell_type": "code",
   "source": [
    "# Calculating mean and sum for a specific numeric columns\n",
    "specific_numeric_column = 'Impulsive'\n",
    "row_counter = 0\n",
    "row_sum = 0\n",
    "row_mean = 0\n",
    "\n",
    "# Using a loop operation as requested\n",
    "for index, row in df.iterrows():\n",
    "    row_counter += 1\n",
    "    row_sum += row[specific_numeric_column]\n",
    "    \n",
    "row_mean = row_sum / row_counter\n",
    "print(f'Column `{specific_numeric_column}` has a total of {row_counter} elements, a sum of {row_sum:.2f} and a mean of {row_mean:.2f}.')"
   ],
   "id": "804e1746b4e5ce7c",
   "outputs": [
    {
     "name": "stdout",
     "output_type": "stream",
     "text": [
      "Column `Impulsive` has a total of 1885 elements, a sum of 13.60 and a mean of 0.01.\n"
     ]
    }
   ],
   "execution_count": 15
  },
  {
   "metadata": {},
   "cell_type": "markdown",
   "source": "# TASK5: Utilise another loop to iterate through string columns if they exist, converting all values to lowercase for consistency or counting the group value. ",
   "id": "b1c038b11f2c9006"
  },
  {
   "metadata": {
    "ExecuteTime": {
     "end_time": "2024-04-12T05:13:58.023836Z",
     "start_time": "2024-04-12T05:13:57.996180Z"
    }
   },
   "cell_type": "code",
   "source": [
    "for column in df.columns:\n",
    "    if pd.api.types.is_string_dtype(df[column].dtype):\n",
    "        # Convert all values in the column to lowercase for consistency\n",
    "        df[column] = df[column].str.lower()\n",
    "        \n",
    "        # Optional: display or analyze the frequency of values\n",
    "        value_counts = df[column].value_counts()\n",
    "        print(f'Column {column} contains string values. Value counts:')\n",
    "        print(value_counts)\n",
    "    else:\n",
    "        print(f'Column {column} does not contain  string values.')"
   ],
   "id": "4a02ceab277515c7",
   "outputs": [
    {
     "name": "stdout",
     "output_type": "stream",
     "text": [
      "Column ID does not contain  string values.\n",
      "Column Age does not contain  string values.\n",
      "Column Gender does not contain  string values.\n",
      "Column Education does not contain  string values.\n",
      "Column Country does not contain  string values.\n",
      "Column Ethnicity does not contain  string values.\n",
      "Column Nscore does not contain  string values.\n",
      "Column Escore does not contain  string values.\n",
      "Column Oscore does not contain  string values.\n",
      "Column Ascore does not contain  string values.\n",
      "Column Cscore does not contain  string values.\n",
      "Column Impulsive does not contain  string values.\n",
      "Column SS does not contain  string values.\n",
      "Column Alcohol contains string values. Value counts:\n",
      "Alcohol\n",
      "cl5    759\n",
      "cl6    505\n",
      "cl4    287\n",
      "cl3    198\n",
      "cl2     68\n",
      "cl1     34\n",
      "cl0     34\n",
      "Name: count, dtype: int64\n",
      "Column Benzos contains string values. Value counts:\n",
      "Benzos\n",
      "cl0    1000\n",
      "cl3     236\n",
      "cl2     234\n",
      "cl4     120\n",
      "cl1     116\n",
      "cl6      95\n",
      "cl5      84\n",
      "Name: count, dtype: int64\n",
      "Column Cannabis contains string values. Value counts:\n",
      "Cannabis\n",
      "cl6    463\n",
      "cl0    413\n",
      "cl2    266\n",
      "cl3    211\n",
      "cl1    207\n",
      "cl5    185\n",
      "cl4    140\n",
      "Name: count, dtype: int64\n",
      "Column Coke contains string values. Value counts:\n",
      "Coke\n",
      "cl0    1038\n",
      "cl2     270\n",
      "cl3     258\n",
      "cl1     160\n",
      "cl4      99\n",
      "cl5      41\n",
      "cl6      19\n",
      "Name: count, dtype: int64\n",
      "Column Crack contains string values. Value counts:\n",
      "Crack\n",
      "cl0    1627\n",
      "cl2     112\n",
      "cl1      67\n",
      "cl3      59\n",
      "cl5       9\n",
      "cl4       9\n",
      "cl6       2\n",
      "Name: count, dtype: int64\n",
      "Column Ecstasy contains string values. Value counts:\n",
      "Ecstasy\n",
      "cl0    1021\n",
      "cl3     277\n",
      "cl2     234\n",
      "cl4     156\n",
      "cl1     113\n",
      "cl5      63\n",
      "cl6      21\n",
      "Name: count, dtype: int64\n",
      "Column Heroin contains string values. Value counts:\n",
      "Heroin\n",
      "cl0    1605\n",
      "cl2      94\n",
      "cl1      68\n",
      "cl3      65\n",
      "cl4      24\n",
      "cl5      16\n",
      "cl6      13\n",
      "Name: count, dtype: int64\n",
      "Column LSD contains string values. Value counts:\n",
      "LSD\n",
      "cl0    1069\n",
      "cl1     259\n",
      "cl3     214\n",
      "cl2     177\n",
      "cl4      97\n",
      "cl5      56\n",
      "cl6      13\n",
      "Name: count, dtype: int64\n",
      "Column Meth contains string values. Value counts:\n",
      "Meth\n",
      "cl0    1429\n",
      "cl3     149\n",
      "cl2      97\n",
      "cl6      73\n",
      "cl4      50\n",
      "cl5      48\n",
      "cl1      39\n",
      "Name: count, dtype: int64\n",
      "Column Mushrooms contains string values. Value counts:\n",
      "Mushrooms\n",
      "cl0    982\n",
      "cl3    275\n",
      "cl2    260\n",
      "cl1    209\n",
      "cl4    115\n",
      "cl5     40\n",
      "cl6      4\n",
      "Name: count, dtype: int64\n",
      "Column Nicotine contains string values. Value counts:\n",
      "Nicotine\n",
      "cl6    610\n",
      "cl0    428\n",
      "cl2    204\n",
      "cl1    193\n",
      "cl3    185\n",
      "cl5    157\n",
      "cl4    108\n",
      "Name: count, dtype: int64\n"
     ]
    }
   ],
   "execution_count": 16
  },
  {
   "metadata": {},
   "cell_type": "markdown",
   "source": "# TASK6: Explore the dataset comprehensively by generating summary statistics, including frequency, mean, median, standard deviation, minimum, maximum, and quartiles. ",
   "id": "3af1d8e4b6a181b1"
  },
  {
   "metadata": {
    "ExecuteTime": {
     "end_time": "2024-04-12T05:13:58.129839Z",
     "start_time": "2024-04-12T05:13:58.088334Z"
    }
   },
   "cell_type": "code",
   "source": [
    "# Initial data exploration\n",
    "df.describe()"
   ],
   "id": "1c68a44b60a00d8",
   "outputs": [
    {
     "data": {
      "text/plain": [
       "                ID         Age       Gender    Education      Country  \\\n",
       "count  1885.000000  1885.00000  1885.000000  1885.000000  1885.000000   \n",
       "mean    945.294960     0.03461    -0.000256    -0.003806     0.355542   \n",
       "std     545.167641     0.87836     0.482588     0.950078     0.700335   \n",
       "min       1.000000    -0.95197    -0.482460    -2.435910    -0.570090   \n",
       "25%     474.000000    -0.95197    -0.482460    -0.611130    -0.570090   \n",
       "50%     946.000000    -0.07854    -0.482460    -0.059210     0.960820   \n",
       "75%    1417.000000     0.49788     0.482460     0.454680     0.960820   \n",
       "max    1888.000000     2.59171     0.482460     1.984370     0.960820   \n",
       "\n",
       "         Ethnicity       Nscore       Escore       Oscore       Ascore  \\\n",
       "count  1885.000000  1885.000000  1885.000000  1885.000000  1885.000000   \n",
       "mean     -0.309577     0.000047    -0.000163    -0.000534    -0.000245   \n",
       "std       0.166226     0.998106     0.997448     0.996229     0.997440   \n",
       "min      -1.107020    -3.464360    -3.273930    -3.273930    -3.464360   \n",
       "25%      -0.316850    -0.678250    -0.695090    -0.717270    -0.606330   \n",
       "50%      -0.316850     0.042570     0.003320    -0.019280    -0.017290   \n",
       "75%      -0.316850     0.629670     0.637790     0.723300     0.760960   \n",
       "max       1.907250     3.273930     3.273930     2.901610     3.464360   \n",
       "\n",
       "            Cscore    Impulsive           SS  \n",
       "count  1885.000000  1885.000000  1885.000000  \n",
       "mean     -0.000386     0.007216    -0.003292  \n",
       "std       0.997523     0.954435     0.963701  \n",
       "min      -3.464360    -2.555240    -2.078480  \n",
       "25%      -0.652530    -0.711260    -0.525930  \n",
       "50%      -0.006650    -0.217120     0.079870  \n",
       "75%       0.584890     0.529750     0.765400  \n",
       "max       3.464360     2.901610     1.921730  "
      ],
      "text/html": [
       "<div>\n",
       "<style scoped>\n",
       "    .dataframe tbody tr th:only-of-type {\n",
       "        vertical-align: middle;\n",
       "    }\n",
       "\n",
       "    .dataframe tbody tr th {\n",
       "        vertical-align: top;\n",
       "    }\n",
       "\n",
       "    .dataframe thead th {\n",
       "        text-align: right;\n",
       "    }\n",
       "</style>\n",
       "<table border=\"1\" class=\"dataframe\">\n",
       "  <thead>\n",
       "    <tr style=\"text-align: right;\">\n",
       "      <th></th>\n",
       "      <th>ID</th>\n",
       "      <th>Age</th>\n",
       "      <th>Gender</th>\n",
       "      <th>Education</th>\n",
       "      <th>Country</th>\n",
       "      <th>Ethnicity</th>\n",
       "      <th>Nscore</th>\n",
       "      <th>Escore</th>\n",
       "      <th>Oscore</th>\n",
       "      <th>Ascore</th>\n",
       "      <th>Cscore</th>\n",
       "      <th>Impulsive</th>\n",
       "      <th>SS</th>\n",
       "    </tr>\n",
       "  </thead>\n",
       "  <tbody>\n",
       "    <tr>\n",
       "      <th>count</th>\n",
       "      <td>1885.000000</td>\n",
       "      <td>1885.00000</td>\n",
       "      <td>1885.000000</td>\n",
       "      <td>1885.000000</td>\n",
       "      <td>1885.000000</td>\n",
       "      <td>1885.000000</td>\n",
       "      <td>1885.000000</td>\n",
       "      <td>1885.000000</td>\n",
       "      <td>1885.000000</td>\n",
       "      <td>1885.000000</td>\n",
       "      <td>1885.000000</td>\n",
       "      <td>1885.000000</td>\n",
       "      <td>1885.000000</td>\n",
       "    </tr>\n",
       "    <tr>\n",
       "      <th>mean</th>\n",
       "      <td>945.294960</td>\n",
       "      <td>0.03461</td>\n",
       "      <td>-0.000256</td>\n",
       "      <td>-0.003806</td>\n",
       "      <td>0.355542</td>\n",
       "      <td>-0.309577</td>\n",
       "      <td>0.000047</td>\n",
       "      <td>-0.000163</td>\n",
       "      <td>-0.000534</td>\n",
       "      <td>-0.000245</td>\n",
       "      <td>-0.000386</td>\n",
       "      <td>0.007216</td>\n",
       "      <td>-0.003292</td>\n",
       "    </tr>\n",
       "    <tr>\n",
       "      <th>std</th>\n",
       "      <td>545.167641</td>\n",
       "      <td>0.87836</td>\n",
       "      <td>0.482588</td>\n",
       "      <td>0.950078</td>\n",
       "      <td>0.700335</td>\n",
       "      <td>0.166226</td>\n",
       "      <td>0.998106</td>\n",
       "      <td>0.997448</td>\n",
       "      <td>0.996229</td>\n",
       "      <td>0.997440</td>\n",
       "      <td>0.997523</td>\n",
       "      <td>0.954435</td>\n",
       "      <td>0.963701</td>\n",
       "    </tr>\n",
       "    <tr>\n",
       "      <th>min</th>\n",
       "      <td>1.000000</td>\n",
       "      <td>-0.95197</td>\n",
       "      <td>-0.482460</td>\n",
       "      <td>-2.435910</td>\n",
       "      <td>-0.570090</td>\n",
       "      <td>-1.107020</td>\n",
       "      <td>-3.464360</td>\n",
       "      <td>-3.273930</td>\n",
       "      <td>-3.273930</td>\n",
       "      <td>-3.464360</td>\n",
       "      <td>-3.464360</td>\n",
       "      <td>-2.555240</td>\n",
       "      <td>-2.078480</td>\n",
       "    </tr>\n",
       "    <tr>\n",
       "      <th>25%</th>\n",
       "      <td>474.000000</td>\n",
       "      <td>-0.95197</td>\n",
       "      <td>-0.482460</td>\n",
       "      <td>-0.611130</td>\n",
       "      <td>-0.570090</td>\n",
       "      <td>-0.316850</td>\n",
       "      <td>-0.678250</td>\n",
       "      <td>-0.695090</td>\n",
       "      <td>-0.717270</td>\n",
       "      <td>-0.606330</td>\n",
       "      <td>-0.652530</td>\n",
       "      <td>-0.711260</td>\n",
       "      <td>-0.525930</td>\n",
       "    </tr>\n",
       "    <tr>\n",
       "      <th>50%</th>\n",
       "      <td>946.000000</td>\n",
       "      <td>-0.07854</td>\n",
       "      <td>-0.482460</td>\n",
       "      <td>-0.059210</td>\n",
       "      <td>0.960820</td>\n",
       "      <td>-0.316850</td>\n",
       "      <td>0.042570</td>\n",
       "      <td>0.003320</td>\n",
       "      <td>-0.019280</td>\n",
       "      <td>-0.017290</td>\n",
       "      <td>-0.006650</td>\n",
       "      <td>-0.217120</td>\n",
       "      <td>0.079870</td>\n",
       "    </tr>\n",
       "    <tr>\n",
       "      <th>75%</th>\n",
       "      <td>1417.000000</td>\n",
       "      <td>0.49788</td>\n",
       "      <td>0.482460</td>\n",
       "      <td>0.454680</td>\n",
       "      <td>0.960820</td>\n",
       "      <td>-0.316850</td>\n",
       "      <td>0.629670</td>\n",
       "      <td>0.637790</td>\n",
       "      <td>0.723300</td>\n",
       "      <td>0.760960</td>\n",
       "      <td>0.584890</td>\n",
       "      <td>0.529750</td>\n",
       "      <td>0.765400</td>\n",
       "    </tr>\n",
       "    <tr>\n",
       "      <th>max</th>\n",
       "      <td>1888.000000</td>\n",
       "      <td>2.59171</td>\n",
       "      <td>0.482460</td>\n",
       "      <td>1.984370</td>\n",
       "      <td>0.960820</td>\n",
       "      <td>1.907250</td>\n",
       "      <td>3.273930</td>\n",
       "      <td>3.273930</td>\n",
       "      <td>2.901610</td>\n",
       "      <td>3.464360</td>\n",
       "      <td>3.464360</td>\n",
       "      <td>2.901610</td>\n",
       "      <td>1.921730</td>\n",
       "    </tr>\n",
       "  </tbody>\n",
       "</table>\n",
       "</div>"
      ]
     },
     "execution_count": 17,
     "metadata": {},
     "output_type": "execute_result"
    }
   ],
   "execution_count": 17
  },
  {
   "metadata": {
    "ExecuteTime": {
     "end_time": "2024-04-12T05:13:58.235586Z",
     "start_time": "2024-04-12T05:13:58.186837Z"
    }
   },
   "cell_type": "code",
   "source": [
    "# Advanced data exploration\n",
    "\n",
    "# Container for statistics\n",
    "numeric_stats = {}\n",
    "non_numeric_stats = {}\n",
    "\n",
    "for column in df.columns:\n",
    "    data = df[column]\n",
    "\n",
    "    # Check if the column is numeric\n",
    "    if pd.api.types.is_numeric_dtype(data):\n",
    "        # Descriptive statistics for numeric data\n",
    "        stats = {\n",
    "            # Frequency not really suitable for  numeric data\n",
    "            'Count': data.count(), \n",
    "            'Mean': data.mean(),\n",
    "            'Median': data.median(),\n",
    "            'Standard Deviation': data.std(),\n",
    "            'Minimum': data.min(),\n",
    "            'Maximum': data.max(),\n",
    "            '25%': data.quantile(0.25),\n",
    "            '50%': data.quantile(0.50),\n",
    "            '75%': data.quantile(0.75),\n",
    "            'Missing Values': data.isna().sum(),\n",
    "            'Unique Values': data.nunique()\n",
    "        }\n",
    "        numeric_stats[column] = stats\n",
    "    else:\n",
    "        # Descriptive statistics for categorical data\n",
    "        stats = {\n",
    "            'Count of Occurrences': data.value_counts(), # frequency\n",
    "            'Missing Values': data.isna().sum(),\n",
    "            'Unique Values': data.nunique()\n",
    "        }\n",
    "        non_numeric_stats[column] = stats"
   ],
   "id": "57b3dd4a645fa1ee",
   "outputs": [],
   "execution_count": 18
  },
  {
   "metadata": {
    "ExecuteTime": {
     "end_time": "2024-04-12T05:13:58.307888Z",
     "start_time": "2024-04-12T05:13:58.302133Z"
    }
   },
   "cell_type": "code",
   "source": [
    "# Printing the statistics for numeric columns\n",
    "print(\"Numeric Columns Statistics:\")\n",
    "for column, stats in numeric_stats.items():\n",
    "    print(f\"\\nStatistics for {column}:\")\n",
    "    for key, value in stats.items():\n",
    "        print(f\"{key}: {value}\")"
   ],
   "id": "b4412ecf10e4fd3",
   "outputs": [
    {
     "name": "stdout",
     "output_type": "stream",
     "text": [
      "Numeric Columns Statistics:\n",
      "\n",
      "Statistics for ID:\n",
      "Count: 1885\n",
      "Mean: 945.2949602122015\n",
      "Median: 946.0\n",
      "Standard Deviation: 545.1676410988996\n",
      "Minimum: 1\n",
      "Maximum: 1888\n",
      "25%: 474.0\n",
      "50%: 946.0\n",
      "75%: 1417.0\n",
      "Missing Values: 0\n",
      "Unique Values: 1885\n",
      "\n",
      "Statistics for Age:\n",
      "Count: 1885\n",
      "Mean: 0.03460995225464192\n",
      "Median: -0.07854\n",
      "Standard Deviation: 0.8783603244968189\n",
      "Minimum: -0.95197\n",
      "Maximum: 2.59171\n",
      "25%: -0.95197\n",
      "50%: -0.07854\n",
      "75%: 0.49788\n",
      "Missing Values: 0\n",
      "Unique Values: 6\n",
      "\n",
      "Statistics for Gender:\n",
      "Count: 1885\n",
      "Mean: -0.0002559469496021218\n",
      "Median: -0.48246\n",
      "Standard Deviation: 0.48258795650669223\n",
      "Minimum: -0.48246\n",
      "Maximum: 0.48246\n",
      "25%: -0.48246\n",
      "50%: -0.48246\n",
      "75%: 0.48246\n",
      "Missing Values: 0\n",
      "Unique Values: 2\n",
      "\n",
      "Statistics for Education:\n",
      "Count: 1885\n",
      "Mean: -0.003806090185676411\n",
      "Median: -0.05921\n",
      "Standard Deviation: 0.9500782517816263\n",
      "Minimum: -2.43591\n",
      "Maximum: 1.98437\n",
      "25%: -0.61113\n",
      "50%: -0.05921\n",
      "75%: 0.45468\n",
      "Missing Values: 0\n",
      "Unique Values: 9\n",
      "\n",
      "Statistics for Country:\n",
      "Count: 1885\n",
      "Mean: 0.3555421697612732\n",
      "Median: 0.96082\n",
      "Standard Deviation: 0.7003350991862702\n",
      "Minimum: -0.57009\n",
      "Maximum: 0.96082\n",
      "25%: -0.57009\n",
      "50%: 0.96082\n",
      "75%: 0.96082\n",
      "Missing Values: 0\n",
      "Unique Values: 7\n",
      "\n",
      "Statistics for Ethnicity:\n",
      "Count: 1885\n",
      "Mean: -0.30957720424403185\n",
      "Median: -0.31685\n",
      "Standard Deviation: 0.16622580875599646\n",
      "Minimum: -1.10702\n",
      "Maximum: 1.90725\n",
      "25%: -0.31685\n",
      "50%: -0.31685\n",
      "75%: -0.31685\n",
      "Missing Values: 0\n",
      "Unique Values: 7\n",
      "\n",
      "Statistics for Nscore:\n",
      "Count: 1885\n",
      "Mean: 4.660477453581443e-05\n",
      "Median: 0.04257\n",
      "Standard Deviation: 0.9981059358473481\n",
      "Minimum: -3.46436\n",
      "Maximum: 3.27393\n",
      "25%: -0.67825\n",
      "50%: 0.04257\n",
      "75%: 0.62967\n",
      "Missing Values: 0\n",
      "Unique Values: 49\n",
      "\n",
      "Statistics for Escore:\n",
      "Count: 1885\n",
      "Mean: -0.0001628010610079536\n",
      "Median: 0.00332\n",
      "Standard Deviation: 0.9974484946397126\n",
      "Minimum: -3.27393\n",
      "Maximum: 3.27393\n",
      "25%: -0.69509\n",
      "50%: 0.00332\n",
      "75%: 0.63779\n",
      "Missing Values: 0\n",
      "Unique Values: 42\n",
      "\n",
      "Statistics for Oscore:\n",
      "Count: 1885\n",
      "Mean: -0.0005343978779840694\n",
      "Median: -0.01928\n",
      "Standard Deviation: 0.9962285537660901\n",
      "Minimum: -3.27393\n",
      "Maximum: 2.90161\n",
      "25%: -0.71727\n",
      "50%: -0.01928\n",
      "75%: 0.7233\n",
      "Missing Values: 0\n",
      "Unique Values: 35\n",
      "\n",
      "Statistics for Ascore:\n",
      "Count: 1885\n",
      "Mean: -0.0002449655172413689\n",
      "Median: -0.01729\n",
      "Standard Deviation: 0.9974404928094333\n",
      "Minimum: -3.46436\n",
      "Maximum: 3.46436\n",
      "25%: -0.60633\n",
      "50%: -0.01729\n",
      "75%: 0.76096\n",
      "Missing Values: 0\n",
      "Unique Values: 41\n",
      "\n",
      "Statistics for Cscore:\n",
      "Count: 1885\n",
      "Mean: -0.0003860689655172399\n",
      "Median: -0.00665\n",
      "Standard Deviation: 0.9975226271655743\n",
      "Minimum: -3.46436\n",
      "Maximum: 3.46436\n",
      "25%: -0.65253\n",
      "50%: -0.00665\n",
      "75%: 0.58489\n",
      "Missing Values: 0\n",
      "Unique Values: 41\n",
      "\n",
      "Statistics for Impulsive:\n",
      "Count: 1885\n",
      "Mean: 0.007216063660477443\n",
      "Median: -0.21712\n",
      "Standard Deviation: 0.9544345111747234\n",
      "Minimum: -2.55524\n",
      "Maximum: 2.90161\n",
      "25%: -0.71126\n",
      "50%: -0.21712\n",
      "75%: 0.52975\n",
      "Missing Values: 0\n",
      "Unique Values: 10\n",
      "\n",
      "Statistics for SS:\n",
      "Count: 1885\n",
      "Mean: -0.003291665782493378\n",
      "Median: 0.07987\n",
      "Standard Deviation: 0.9637011589526342\n",
      "Minimum: -2.07848\n",
      "Maximum: 1.92173\n",
      "25%: -0.52593\n",
      "50%: 0.07987\n",
      "75%: 0.7654\n",
      "Missing Values: 0\n",
      "Unique Values: 11\n"
     ]
    }
   ],
   "execution_count": 19
  },
  {
   "metadata": {
    "ExecuteTime": {
     "end_time": "2024-04-12T05:13:59.479437Z",
     "start_time": "2024-04-12T05:13:58.372671Z"
    }
   },
   "cell_type": "code",
   "source": [
    "# Plotting of some statistics for the numerical column 'Impulsive'\n",
    "fig, ax = plt.subplots(3, 1, figsize=(6, 6))\n",
    "\n",
    "# First plot: Box Plot\n",
    "sns.boxplot(x=df['Impulsive'], ax=ax[0])\n",
    "ax[0].set_title('Box Plot')\n",
    "\n",
    "# Second plot: Histogram & Density Plot\n",
    "sns.histplot(df['Impulsive'], kde=True, ax=ax[1])\n",
    "ax[1].set_title('Histogram & Density Plot')\n",
    "\n",
    "# Third plot: Violin Plot\n",
    "sns.violinplot(x=df['Impulsive'], ax=ax[2])\n",
    "ax[2].set_title('Violin Plot')\n",
    "\n",
    "plt.tight_layout()\n",
    "plt.show()"
   ],
   "id": "bac0aef6ca277b37",
   "outputs": [
    {
     "data": {
      "text/plain": [
       "<Figure size 600x600 with 3 Axes>"
      ],
      "image/png": "[encoded data removed]"
     },
     "metadata": {},
     "output_type": "display_data"
    }
   ],
   "execution_count": 20
  },
  {
   "metadata": {
    "ExecuteTime": {
     "end_time": "2024-04-12T05:13:59.490617Z",
     "start_time": "2024-04-12T05:13:59.481946Z"
    }
   },
   "cell_type": "code",
   "source": [
    "# Printing the statistics for non-numeric columns\n",
    "print(\"Non-Numeric Columns Statistics:\")\n",
    "for column, stats in non_numeric_stats.items():\n",
    "    print(f\"Statistics for {column}:\")\n",
    "    if isinstance(stats['Count of Occurrences'], pd.Series):\n",
    "        print(\"Count of Occurrences:\")\n",
    "        print(stats['Count of Occurrences'])\n",
    "    for key, value in stats.items():\n",
    "        if key != 'Count of Occurrences':\n",
    "            print(f\"{key}: {value}\")"
   ],
   "id": "d6d0796eda036485",
   "outputs": [
    {
     "name": "stdout",
     "output_type": "stream",
     "text": [
      "Non-Numeric Columns Statistics:\n",
      "Statistics for Alcohol:\n",
      "Count of Occurrences:\n",
      "Alcohol\n",
      "cl5    759\n",
      "cl6    505\n",
      "cl4    287\n",
      "cl3    198\n",
      "cl2     68\n",
      "cl1     34\n",
      "cl0     34\n",
      "Name: count, dtype: int64\n",
      "Missing Values: 0\n",
      "Unique Values: 7\n",
      "Statistics for Benzos:\n",
      "Count of Occurrences:\n",
      "Benzos\n",
      "cl0    1000\n",
      "cl3     236\n",
      "cl2     234\n",
      "cl4     120\n",
      "cl1     116\n",
      "cl6      95\n",
      "cl5      84\n",
      "Name: count, dtype: int64\n",
      "Missing Values: 0\n",
      "Unique Values: 7\n",
      "Statistics for Cannabis:\n",
      "Count of Occurrences:\n",
      "Cannabis\n",
      "cl6    463\n",
      "cl0    413\n",
      "cl2    266\n",
      "cl3    211\n",
      "cl1    207\n",
      "cl5    185\n",
      "cl4    140\n",
      "Name: count, dtype: int64\n",
      "Missing Values: 0\n",
      "Unique Values: 7\n",
      "Statistics for Coke:\n",
      "Count of Occurrences:\n",
      "Coke\n",
      "cl0    1038\n",
      "cl2     270\n",
      "cl3     258\n",
      "cl1     160\n",
      "cl4      99\n",
      "cl5      41\n",
      "cl6      19\n",
      "Name: count, dtype: int64\n",
      "Missing Values: 0\n",
      "Unique Values: 7\n",
      "Statistics for Crack:\n",
      "Count of Occurrences:\n",
      "Crack\n",
      "cl0    1627\n",
      "cl2     112\n",
      "cl1      67\n",
      "cl3      59\n",
      "cl5       9\n",
      "cl4       9\n",
      "cl6       2\n",
      "Name: count, dtype: int64\n",
      "Missing Values: 0\n",
      "Unique Values: 7\n",
      "Statistics for Ecstasy:\n",
      "Count of Occurrences:\n",
      "Ecstasy\n",
      "cl0    1021\n",
      "cl3     277\n",
      "cl2     234\n",
      "cl4     156\n",
      "cl1     113\n",
      "cl5      63\n",
      "cl6      21\n",
      "Name: count, dtype: int64\n",
      "Missing Values: 0\n",
      "Unique Values: 7\n",
      "Statistics for Heroin:\n",
      "Count of Occurrences:\n",
      "Heroin\n",
      "cl0    1605\n",
      "cl2      94\n",
      "cl1      68\n",
      "cl3      65\n",
      "cl4      24\n",
      "cl5      16\n",
      "cl6      13\n",
      "Name: count, dtype: int64\n",
      "Missing Values: 0\n",
      "Unique Values: 7\n",
      "Statistics for LSD:\n",
      "Count of Occurrences:\n",
      "LSD\n",
      "cl0    1069\n",
      "cl1     259\n",
      "cl3     214\n",
      "cl2     177\n",
      "cl4      97\n",
      "cl5      56\n",
      "cl6      13\n",
      "Name: count, dtype: int64\n",
      "Missing Values: 0\n",
      "Unique Values: 7\n",
      "Statistics for Meth:\n",
      "Count of Occurrences:\n",
      "Meth\n",
      "cl0    1429\n",
      "cl3     149\n",
      "cl2      97\n",
      "cl6      73\n",
      "cl4      50\n",
      "cl5      48\n",
      "cl1      39\n",
      "Name: count, dtype: int64\n",
      "Missing Values: 0\n",
      "Unique Values: 7\n",
      "Statistics for Mushrooms:\n",
      "Count of Occurrences:\n",
      "Mushrooms\n",
      "cl0    982\n",
      "cl3    275\n",
      "cl2    260\n",
      "cl1    209\n",
      "cl4    115\n",
      "cl5     40\n",
      "cl6      4\n",
      "Name: count, dtype: int64\n",
      "Missing Values: 0\n",
      "Unique Values: 7\n",
      "Statistics for Nicotine:\n",
      "Count of Occurrences:\n",
      "Nicotine\n",
      "cl6    610\n",
      "cl0    428\n",
      "cl2    204\n",
      "cl1    193\n",
      "cl3    185\n",
      "cl5    157\n",
      "cl4    108\n",
      "Name: count, dtype: int64\n",
      "Missing Values: 0\n",
      "Unique Values: 7\n"
     ]
    }
   ],
   "execution_count": 21
  },
  {
   "metadata": {
    "ExecuteTime": {
     "end_time": "2024-04-12T05:13:59.940600Z",
     "start_time": "2024-04-12T05:13:59.492774Z"
    }
   },
   "cell_type": "code",
   "source": [
    "# Plotting of some statistics for the numerical categorical 'Alcohol'\n",
    "plt.figure(figsize=(10, 5))\n",
    "sns.countplot(y=df['Alcohol'])\n",
    "plt.title(label=f'Frequency Count for Categorical Attribute Alcohol')"
   ],
   "id": "c3f06855127bcf41",
   "outputs": [
    {
     "data": {
      "text/plain": [
       "Text(0.5, 1.0, 'Frequency Count for Categorical Attribute Alcohol')"
      ]
     },
     "execution_count": 22,
     "metadata": {},
     "output_type": "execute_result"
    },
    {
     "data": {
      "text/plain": [
       "<Figure size 1000x500 with 1 Axes>"
      ],
      "image/png": "[encoded data removed]"
     },
     "metadata": {},
     "output_type": "display_data"
    }
   ],
   "execution_count": 22
  },
  {
   "metadata": {},
   "cell_type": "markdown",
   "source": "# TASK7: Generate the correlation table between the numerical columns.",
   "id": "df573fb3c3765fa3"
  },
  {
   "metadata": {
    "ExecuteTime": {
     "end_time": "2024-04-12T05:13:59.959584Z",
     "start_time": "2024-04-12T05:13:59.944492Z"
    }
   },
   "cell_type": "code",
   "source": [
    "# Select only the numeric columns before calculating the correlation\n",
    "numeric_df = df.select_dtypes(include=[np.number])\n",
    "correlation_matrix = numeric_df.corr()\n",
    "\n",
    "# Display the correlation matrix\n",
    "print(correlation_matrix)"
   ],
   "id": "44b6bb1d0bc96c93",
   "outputs": [
    {
     "name": "stdout",
     "output_type": "stream",
     "text": [
      "                 ID       Age    Gender  Education   Country  Ethnicity  \\\n",
      "ID         1.000000 -0.271395 -0.025467  -0.025253 -0.340751   0.059309   \n",
      "Age       -0.271395  1.000000  0.110286   0.158811  0.354241  -0.069753   \n",
      "Gender    -0.025467  0.110286  1.000000   0.196774  0.216271  -0.001213   \n",
      "Education -0.025253  0.158811  0.196774   1.000000  0.225311  -0.036099   \n",
      "Country   -0.340751  0.354241  0.216271   0.225311  1.000000  -0.127946   \n",
      "Ethnicity  0.059309 -0.069753 -0.001213  -0.036099 -0.127946   1.000000   \n",
      "Nscore     0.018639 -0.136654  0.074646  -0.100993 -0.136191   0.047642   \n",
      "Escore    -0.046960 -0.033849  0.057864   0.115645  0.109524   0.018402   \n",
      "Oscore     0.173565 -0.226778 -0.131021   0.057994 -0.341969   0.084816   \n",
      "Ascore    -0.028782  0.063504  0.219743   0.091088  0.150921  -0.038726   \n",
      "Cscore    -0.072094  0.183564  0.183831   0.240417  0.214000  -0.029923   \n",
      "Impulsive  0.119663 -0.190939 -0.167492  -0.132482 -0.231572   0.082411   \n",
      "SS         0.165882 -0.332188 -0.244277  -0.131146 -0.345415   0.100304   \n",
      "\n",
      "             Nscore    Escore    Oscore    Ascore    Cscore  Impulsive  \\\n",
      "ID         0.018639 -0.046960  0.173565 -0.028782 -0.072094   0.119663   \n",
      "Age       -0.136654 -0.033849 -0.226778  0.063504  0.183564  -0.190939   \n",
      "Gender     0.074646  0.057864 -0.131021  0.219743  0.183831  -0.167492   \n",
      "Education -0.100993  0.115645  0.057994  0.091088  0.240417  -0.132482   \n",
      "Country   -0.136191  0.109524 -0.341969  0.150921  0.214000  -0.231572   \n",
      "Ethnicity  0.047642  0.018402  0.084816 -0.038726 -0.029923   0.082411   \n",
      "Nscore     1.000000 -0.431051  0.010177 -0.216964 -0.391088   0.174399   \n",
      "Escore    -0.431051  1.000000  0.245277  0.157336  0.308024   0.114151   \n",
      "Oscore     0.010177  0.245277  1.000000  0.038516 -0.056811   0.277512   \n",
      "Ascore    -0.216964  0.157336  0.038516  1.000000  0.247482  -0.229690   \n",
      "Cscore    -0.391088  0.308024 -0.056811  0.247482  1.000000  -0.335133   \n",
      "Impulsive  0.174399  0.114151  0.277512 -0.229690 -0.335133   1.000000   \n",
      "SS         0.079988  0.210130  0.421709 -0.208061 -0.229038   0.623120   \n",
      "\n",
      "                 SS  \n",
      "ID         0.165882  \n",
      "Age       -0.332188  \n",
      "Gender    -0.244277  \n",
      "Education -0.131146  \n",
      "Country   -0.345415  \n",
      "Ethnicity  0.100304  \n",
      "Nscore     0.079988  \n",
      "Escore     0.210130  \n",
      "Oscore     0.421709  \n",
      "Ascore    -0.208061  \n",
      "Cscore    -0.229038  \n",
      "Impulsive  0.623120  \n",
      "SS         1.000000  \n"
     ]
    }
   ],
   "execution_count": 23
  },
  {
   "metadata": {
    "ExecuteTime": {
     "end_time": "2024-04-12T05:14:01.177793Z",
     "start_time": "2024-04-12T05:13:59.961464Z"
    }
   },
   "cell_type": "code",
   "source": [
    "# Simple visualization\n",
    "sns.heatmap(correlation_matrix, annot=True)"
   ],
   "id": "d2014f1fcc86d079",
   "outputs": [
    {
     "data": {
      "text/plain": [
       "<Axes: >"
      ]
     },
     "execution_count": 24,
     "metadata": {},
     "output_type": "execute_result"
    },
    {
     "data": {
      "text/plain": [
       "<Figure size 640x480 with 2 Axes>"
      ],
      "image/png": "[encoded data removed]"
     },
     "metadata": {},
     "output_type": "display_data"
    }
   ],
   "execution_count": 24
  },
  {
   "metadata": {},
   "cell_type": "markdown",
   "source": "# TASK8: Lastly, identify duplicate columns and rows. ",
   "id": "4e232c583d73a508"
  },
  {
   "metadata": {
    "ExecuteTime": {
     "end_time": "2024-04-12T05:14:01.186967Z",
     "start_time": "2024-04-12T05:14:01.179888Z"
    }
   },
   "cell_type": "code",
   "source": [
    "# Find duplicate rows\n",
    "duplicate_rows = df.duplicated()"
   ],
   "id": "88c688bb9f03dbac",
   "outputs": [],
   "execution_count": 25
  },
  {
   "metadata": {
    "ExecuteTime": {
     "end_time": "2024-04-12T05:14:01.196460Z",
     "start_time": "2024-04-12T05:14:01.188394Z"
    }
   },
   "cell_type": "code",
   "source": [
    "# Displaying duplicate rows\n",
    "print(\"Duplicate Rows:\")\n",
    "print(df[duplicate_rows])"
   ],
   "id": "efcd82036c9327c9",
   "outputs": [
    {
     "name": "stdout",
     "output_type": "stream",
     "text": [
      "Duplicate Rows:\n",
      "Empty DataFrame\n",
      "Columns: [ID, Age, Gender, Education, Country, Ethnicity, Nscore, Escore, Oscore, Ascore, Cscore, Impulsive, SS, Alcohol, Benzos, Cannabis, Coke, Crack, Ecstasy, Heroin, LSD, Meth, Mushrooms, Nicotine]\n",
      "Index: []\n",
      "\n",
      "[0 rows x 24 columns]\n"
     ]
    }
   ],
   "execution_count": 26
  },
  {
   "metadata": {
    "ExecuteTime": {
     "end_time": "2024-04-12T05:14:01.202670Z",
     "start_time": "2024-04-12T05:14:01.198445Z"
    }
   },
   "cell_type": "code",
   "source": "# We did not find any duplicated rows",
   "id": "13ef0cc1f7393621",
   "outputs": [],
   "execution_count": 27
  },
  {
   "metadata": {
    "ExecuteTime": {
     "end_time": "2024-04-12T05:14:01.502413Z",
     "start_time": "2024-04-12T05:14:01.204987Z"
    }
   },
   "cell_type": "code",
   "source": [
    "# Function to find duplicate columns\n",
    "def get_duplicate_columns(df):\n",
    "    # Apply Trick: Transpose the DataFrame to swap rows and columns\n",
    "    transposed_df = df.T\n",
    "    # Find duplicate columns by treating them as duplicate rows in the transposed DataFrame\n",
    "    duplicate_columns = transposed_df.duplicated()\n",
    "    # Get names of duplicate columns\n",
    "    duplicates = duplicate_columns[duplicate_columns].index\n",
    "    return duplicates\n",
    "\n",
    "# Finding duplicate columns\n",
    "duplicate_columns = get_duplicate_columns(df)"
   ],
   "id": "e1a12b76d277d0d9",
   "outputs": [],
   "execution_count": 28
  },
  {
   "metadata": {
    "ExecuteTime": {
     "end_time": "2024-04-12T05:14:01.510631Z",
     "start_time": "2024-04-12T05:14:01.506785Z"
    }
   },
   "cell_type": "code",
   "source": "duplicate_columns.to_list()",
   "id": "6f56fac9d204466",
   "outputs": [
    {
     "data": {
      "text/plain": [
       "[]"
      ]
     },
     "execution_count": 29,
     "metadata": {},
     "output_type": "execute_result"
    }
   ],
   "execution_count": 29
  },
  {
   "metadata": {
    "ExecuteTime": {
     "end_time": "2024-04-12T05:14:01.515315Z",
     "start_time": "2024-04-12T05:14:01.512402Z"
    }
   },
   "cell_type": "code",
   "source": "# We did not find any duplicated columns",
   "id": "7a5d44723ee2651a",
   "outputs": [],
   "execution_count": 30
  },
  {
   "metadata": {},
   "cell_type": "markdown",
   "source": "# TASK9: Display the count and percentage of null values in the dataset, providing a comprehensive overview of its integrity and completeness.",
   "id": "edbbb13e98f53a93"
  },
  {
   "metadata": {
    "ExecuteTime": {
     "end_time": "2024-04-12T05:14:01.525882Z",
     "start_time": "2024-04-12T05:14:01.517269Z"
    }
   },
   "cell_type": "code",
   "source": [
    "# Prepare data for the plot\n",
    "complete_data = []\n",
    "for column in df.columns:\n",
    "    total_count = len(df[column])\n",
    "    missing_count = df[column].isna().sum()\n",
    "    missing_percentage = (missing_count / total_count) * 100\n",
    "    complete_percentage = 1 - missing_percentage\n",
    "    complete_data.append({'Column': column, 'Complete Percentage': complete_percentage})\n",
    "\n",
    "    print(f\"Column: {column}\")\n",
    "    print(f\"    Total Count: {total_count}\")\n",
    "    print(f\"    Missing Values: {missing_count} ({missing_percentage:.2f}%)\")\n",
    "    print(\"--------------------------------------------\")"
   ],
   "id": "8bad5abbdece74f2",
   "outputs": [
    {
     "name": "stdout",
     "output_type": "stream",
     "text": [
      "Column: ID\n",
      "    Total Count: 1885\n",
      "    Missing Values: 0 (0.00%)\n",
      "--------------------------------------------\n",
      "Column: Age\n",
      "    Total Count: 1885\n",
      "    Missing Values: 0 (0.00%)\n",
      "--------------------------------------------\n",
      "Column: Gender\n",
      "    Total Count: 1885\n",
      "    Missing Values: 0 (0.00%)\n",
      "--------------------------------------------\n",
      "Column: Education\n",
      "    Total Count: 1885\n",
      "    Missing Values: 0 (0.00%)\n",
      "--------------------------------------------\n",
      "Column: Country\n",
      "    Total Count: 1885\n",
      "    Missing Values: 0 (0.00%)\n",
      "--------------------------------------------\n",
      "Column: Ethnicity\n",
      "    Total Count: 1885\n",
      "    Missing Values: 0 (0.00%)\n",
      "--------------------------------------------\n",
      "Column: Nscore\n",
      "    Total Count: 1885\n",
      "    Missing Values: 0 (0.00%)\n",
      "--------------------------------------------\n",
      "Column: Escore\n",
      "    Total Count: 1885\n",
      "    Missing Values: 0 (0.00%)\n",
      "--------------------------------------------\n",
      "Column: Oscore\n",
      "    Total Count: 1885\n",
      "    Missing Values: 0 (0.00%)\n",
      "--------------------------------------------\n",
      "Column: Ascore\n",
      "    Total Count: 1885\n",
      "    Missing Values: 0 (0.00%)\n",
      "--------------------------------------------\n",
      "Column: Cscore\n",
      "    Total Count: 1885\n",
      "    Missing Values: 0 (0.00%)\n",
      "--------------------------------------------\n",
      "Column: Impulsive\n",
      "    Total Count: 1885\n",
      "    Missing Values: 0 (0.00%)\n",
      "--------------------------------------------\n",
      "Column: SS\n",
      "    Total Count: 1885\n",
      "    Missing Values: 0 (0.00%)\n",
      "--------------------------------------------\n",
      "Column: Alcohol\n",
      "    Total Count: 1885\n",
      "    Missing Values: 0 (0.00%)\n",
      "--------------------------------------------\n",
      "Column: Benzos\n",
      "    Total Count: 1885\n",
      "    Missing Values: 0 (0.00%)\n",
      "--------------------------------------------\n",
      "Column: Cannabis\n",
      "    Total Count: 1885\n",
      "    Missing Values: 0 (0.00%)\n",
      "--------------------------------------------\n",
      "Column: Coke\n",
      "    Total Count: 1885\n",
      "    Missing Values: 0 (0.00%)\n",
      "--------------------------------------------\n",
      "Column: Crack\n",
      "    Total Count: 1885\n",
      "    Missing Values: 0 (0.00%)\n",
      "--------------------------------------------\n",
      "Column: Ecstasy\n",
      "    Total Count: 1885\n",
      "    Missing Values: 0 (0.00%)\n",
      "--------------------------------------------\n",
      "Column: Heroin\n",
      "    Total Count: 1885\n",
      "    Missing Values: 0 (0.00%)\n",
      "--------------------------------------------\n",
      "Column: LSD\n",
      "    Total Count: 1885\n",
      "    Missing Values: 0 (0.00%)\n",
      "--------------------------------------------\n",
      "Column: Meth\n",
      "    Total Count: 1885\n",
      "    Missing Values: 0 (0.00%)\n",
      "--------------------------------------------\n",
      "Column: Mushrooms\n",
      "    Total Count: 1885\n",
      "    Missing Values: 0 (0.00%)\n",
      "--------------------------------------------\n",
      "Column: Nicotine\n",
      "    Total Count: 1885\n",
      "    Missing Values: 0 (0.00%)\n",
      "--------------------------------------------\n"
     ]
    }
   ],
   "execution_count": 31
  },
  {
   "metadata": {
    "ExecuteTime": {
     "end_time": "2024-04-12T05:14:02.094836Z",
     "start_time": "2024-04-12T05:14:01.527677Z"
    }
   },
   "cell_type": "code",
   "source": [
    "# Convert the list of dictionaries into a DataFrame for plotting\n",
    "complete_df = pd.DataFrame(complete_data)\n",
    "\n",
    "# Plotting\n",
    "plt.figure(figsize=(10, 8))  # Adjust the size as needed\n",
    "sns.barplot(x='Complete Percentage', y='Column', data=complete_df)\n",
    "plt.title('Percentage of Complete Values by Column')\n",
    "plt.xlabel('Complete Percentage (%)')\n",
    "plt.ylabel('Columns')\n",
    "plt.tight_layout() \n",
    "plt.show()"
   ],
   "id": "a3580828b0de2239",
   "outputs": [
    {
     "data": {
      "text/plain": [
       "<Figure size 1000x800 with 1 Axes>"
      ],
      "image/png": "[encoded data removed]"
     },
     "metadata": {},
     "output_type": "display_data"
    }
   ],
   "execution_count": 32
  }
 ],
 "metadata": {
  "kernelspec": {
   "display_name": "Python 3",
   "language": "python",
   "name": "python3"
  },
  "language_info": {
   "codemirror_mode": {
    "name": "ipython",
    "version": 2
   },
   "file_extension": ".py",
   "mimetype": "text/x-python",
   "name": "python",
   "nbconvert_exporter": "python",
   "pygments_lexer": "ipython2",
   "version": "2.7.6"
  }
 },
 "nbformat": 4,
 "nbformat_minor": 5
}
