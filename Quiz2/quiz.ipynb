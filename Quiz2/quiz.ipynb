{
 "cells": [
  {
   "cell_type": "code",
   "id": "initial_id",
   "metadata": {
    "collapsed": true,
    "ExecuteTime": {
     "end_time": "2024-04-11T00:07:13.668921Z",
     "start_time": "2024-04-11T00:07:12.818599Z"
    }
   },
   "source": "import pandas as pd",
   "outputs": [
    {
     "name": "stderr",
     "output_type": "stream",
     "text": [
      "/var/folders/ck/vgxn_9f907d122j56f3203gm0000gn/T/ipykernel_15614/2035458946.py:1: DeprecationWarning: \n",
      "Pyarrow will become a required dependency of pandas in the next major release of pandas (pandas 3.0),\n",
      "(to allow more performant data types, such as the Arrow string type, and better interoperability with other libraries)\n",
      "but was not found to be installed on your system.\n",
      "If this would cause problems for you,\n",
      "please provide us feedback at https://github.com/pandas-dev/pandas/issues/54466\n",
      "        \n",
      "  import pandas as pd\n"
     ]
    }
   ],
   "execution_count": 1
  },
  {
   "metadata": {
    "ExecuteTime": {
     "end_time": "2024-04-11T00:09:04.728261Z",
     "start_time": "2024-04-11T00:09:04.706022Z"
    }
   },
   "cell_type": "code",
   "source": [
    "#change path based on the dtaa location\n",
    "dataset_path = '../Workshop7/Datasets/Telecom Churn.csv'\n",
    "\n",
    "df = pd.read_csv(dataset_path, header=0)\n",
    "\n",
    "# Data source: https://www.ncdc.noaa.gov/cdo-web/search?datasetid=GHCND"
   ],
   "id": "4022a576cb69e127",
   "outputs": [],
   "execution_count": 4
  },
  {
   "metadata": {
    "ExecuteTime": {
     "end_time": "2024-04-11T00:09:43.499898Z",
     "start_time": "2024-04-11T00:09:43.493238Z"
    }
   },
   "cell_type": "code",
   "source": [
    "average_day_charge = df['total day charge'].mean()\n",
    "average_eve_charge = df['total eve charge'].mean()\n",
    "average_night_charge = df['total night charge'].mean()\n",
    "\n",
    "average_day_charge, average_eve_charge, average_night_charge"
   ],
   "id": "8229a071d3ed0aee",
   "outputs": [
    {
     "data": {
      "text/plain": [
       "(30.562307230723075, 17.083540354035403, 9.03932493249325)"
      ]
     },
     "execution_count": 7,
     "metadata": {},
     "output_type": "execute_result"
    }
   ],
   "execution_count": 7
  },
  {
   "metadata": {
    "ExecuteTime": {
     "end_time": "2024-04-11T00:09:49.341983Z",
     "start_time": "2024-04-11T00:09:49.329118Z"
    }
   },
   "cell_type": "code",
   "source": [
    "churn_usage_stats = df.groupby('churn')[['total day minutes', 'total eve minutes', 'total night minutes']].mean()\n",
    "churn_usage_stats"
   ],
   "id": "4d9e2b5928d4b2f6",
   "outputs": [
    {
     "data": {
      "text/plain": [
       "       total day minutes  total eve minutes  total night minutes\n",
       "churn                                                           \n",
       "False         175.175754         199.043298           200.133193\n",
       "True          206.914079         212.410145           205.231677"
      ],
      "text/html": [
       "<div>\n",
       "<style scoped>\n",
       "    .dataframe tbody tr th:only-of-type {\n",
       "        vertical-align: middle;\n",
       "    }\n",
       "\n",
       "    .dataframe tbody tr th {\n",
       "        vertical-align: top;\n",
       "    }\n",
       "\n",
       "    .dataframe thead th {\n",
       "        text-align: right;\n",
       "    }\n",
       "</style>\n",
       "<table border=\"1\" class=\"dataframe\">\n",
       "  <thead>\n",
       "    <tr style=\"text-align: right;\">\n",
       "      <th></th>\n",
       "      <th>total day minutes</th>\n",
       "      <th>total eve minutes</th>\n",
       "      <th>total night minutes</th>\n",
       "    </tr>\n",
       "    <tr>\n",
       "      <th>churn</th>\n",
       "      <th></th>\n",
       "      <th></th>\n",
       "      <th></th>\n",
       "    </tr>\n",
       "  </thead>\n",
       "  <tbody>\n",
       "    <tr>\n",
       "      <th>False</th>\n",
       "      <td>175.175754</td>\n",
       "      <td>199.043298</td>\n",
       "      <td>200.133193</td>\n",
       "    </tr>\n",
       "    <tr>\n",
       "      <th>True</th>\n",
       "      <td>206.914079</td>\n",
       "      <td>212.410145</td>\n",
       "      <td>205.231677</td>\n",
       "    </tr>\n",
       "  </tbody>\n",
       "</table>\n",
       "</div>"
      ]
     },
     "execution_count": 8,
     "metadata": {},
     "output_type": "execute_result"
    }
   ],
   "execution_count": 8
  },
  {
   "metadata": {
    "ExecuteTime": {
     "end_time": "2024-04-11T00:09:50.650375Z",
     "start_time": "2024-04-11T00:09:50.640015Z"
    }
   },
   "cell_type": "code",
   "source": [
    "#What is the average number of international minutes for customers who churn compared to those who don't?\n",
    "average_intl_minutes_churn = df.groupby('churn')['total intl minutes'].mean()\n",
    "print(average_intl_minutes_churn)\n",
    "\n",
    "#Is having an international plan associated with a lower churn rate?\n",
    "intl_plan_churn_rate = df.groupby('international plan')['churn'].value_counts()\n",
    "print(intl_plan_churn_rate)"
   ],
   "id": "d6cc7fd4af543c5e",
   "outputs": [
    {
     "name": "stdout",
     "output_type": "stream",
     "text": [
      "churn\n",
      "False    10.158877\n",
      "True     10.700000\n",
      "Name: total intl minutes, dtype: float64\n",
      "international plan  churn\n",
      "no                  False    2664\n",
      "                    True      346\n",
      "yes                 False     186\n",
      "                    True      137\n",
      "Name: count, dtype: int64\n"
     ]
    }
   ],
   "execution_count": 9
  }
 ],
 "metadata": {
  "kernelspec": {
   "display_name": "Python 3",
   "language": "python",
   "name": "python3"
  },
  "language_info": {
   "codemirror_mode": {
    "name": "ipython",
    "version": 2
   },
   "file_extension": ".py",
   "mimetype": "text/x-python",
   "name": "python",
   "nbconvert_exporter": "python",
   "pygments_lexer": "ipython2",
   "version": "2.7.6"
  }
 },
 "nbformat": 4,
 "nbformat_minor": 5
}
